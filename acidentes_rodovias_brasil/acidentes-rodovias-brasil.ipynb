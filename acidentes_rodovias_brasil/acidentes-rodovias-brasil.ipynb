{
 "cells": [
  {
   "cell_type": "markdown",
   "id": "2286e12a",
   "metadata": {
    "papermill": {
     "duration": 0.020983,
     "end_time": "2022-11-08T15:29:46.705631",
     "exception": false,
     "start_time": "2022-11-08T15:29:46.684648",
     "status": "completed"
    },
    "tags": []
   },
   "source": [
    "# Acidentes nas rodovias federais\n",
    "\n",
    "Temos como objetivo analisar os acidentes rodovias federais Brasil Jan/07 a Dez/20 e buscar insights referentes às condições de segurança das estradas e de motoristas brasileiros.\n",
    "\n",
    "![img](https://raw.githubusercontent.com/fervassoler/estudos-analise-dados/main/acidentes_rodovias_brasil/dataset-cover.jpg)"
   ]
  },
  {
   "cell_type": "markdown",
   "id": "a76c8486",
   "metadata": {
    "papermill": {
     "duration": 0.015355,
     "end_time": "2022-11-08T15:29:46.736905",
     "exception": false,
     "start_time": "2022-11-08T15:29:46.721550",
     "status": "completed"
    },
    "tags": []
   },
   "source": [
    "## Libs"
   ]
  },
  {
   "cell_type": "code",
   "execution_count": 1,
   "id": "30343315",
   "metadata": {
    "execution": {
     "iopub.execute_input": "2022-11-08T15:29:46.770977Z",
     "iopub.status.busy": "2022-11-08T15:29:46.770171Z",
     "iopub.status.idle": "2022-11-08T15:29:47.658469Z",
     "shell.execute_reply": "2022-11-08T15:29:47.657112Z"
    },
    "papermill": {
     "duration": 0.908844,
     "end_time": "2022-11-08T15:29:47.661464",
     "exception": false,
     "start_time": "2022-11-08T15:29:46.752620",
     "status": "completed"
    },
    "tags": []
   },
   "outputs": [],
   "source": [
    "from unidecode import unidecode\n",
    "\n",
    "import pandas as pd\n",
    "import unicodedata\n",
    "import os\n",
    "\n",
    "from scipy.stats import binom\n",
    "from scipy.special import comb"
   ]
  },
  {
   "cell_type": "markdown",
   "id": "577e5ace",
   "metadata": {
    "papermill": {
     "duration": 0.015606,
     "end_time": "2022-11-08T15:29:47.693889",
     "exception": false,
     "start_time": "2022-11-08T15:29:47.678283",
     "status": "completed"
    },
    "tags": []
   },
   "source": [
    "## Funções"
   ]
  },
  {
   "cell_type": "code",
   "execution_count": 2,
   "id": "ba7db398",
   "metadata": {
    "execution": {
     "iopub.execute_input": "2022-11-08T15:29:47.726637Z",
     "iopub.status.busy": "2022-11-08T15:29:47.726207Z",
     "iopub.status.idle": "2022-11-08T15:29:47.734159Z",
     "shell.execute_reply": "2022-11-08T15:29:47.732640Z"
    },
    "papermill": {
     "duration": 0.027486,
     "end_time": "2022-11-08T15:29:47.736816",
     "exception": false,
     "start_time": "2022-11-08T15:29:47.709330",
     "status": "completed"
    },
    "tags": []
   },
   "outputs": [],
   "source": [
    "def trata_unicode(text):\n",
    "    \n",
    "    if type(text) == float:\n",
    "        text=''\n",
    "    try:\n",
    "        result = text.encode('iso-8859-1').decode('utf8')\n",
    "        return result\n",
    "    except:\n",
    "        pass\n",
    "    \n",
    "    return text"
   ]
  },
  {
   "cell_type": "code",
   "execution_count": 3,
   "id": "c8d13561",
   "metadata": {
    "execution": {
     "iopub.execute_input": "2022-11-08T15:29:47.771130Z",
     "iopub.status.busy": "2022-11-08T15:29:47.770723Z",
     "iopub.status.idle": "2022-11-08T15:29:47.779548Z",
     "shell.execute_reply": "2022-11-08T15:29:47.778309Z"
    },
    "papermill": {
     "duration": 0.028535,
     "end_time": "2022-11-08T15:29:47.781944",
     "exception": false,
     "start_time": "2022-11-08T15:29:47.753409",
     "status": "completed"
    },
    "tags": []
   },
   "outputs": [],
   "source": [
    "def remover_outliers(data, colunas, n_dp):\n",
    "    \"\"\" recebe os dados e a coluna para remover o outlier e \n",
    "    o número de desvios padrão a ser considerado.\n",
    "\n",
    "    data: dados\n",
    "    coluna: coluna a ser analisada\n",
    "    n_dp: número de desvios padrão a ser considerados\n",
    "    \"\"\"\n",
    "    index_to_delete = []\n",
    "    for col in colunas:\n",
    "        \n",
    "        data[col].std()\n",
    "        data[col].mean()\n",
    "\n",
    "        dp = data[col].std()\n",
    "        media = data[col].mean()\n",
    "\n",
    "        acima_dp = media + (6 * dp)\n",
    "        abaixo_dp = media - (6 * dp)\n",
    "\n",
    "        index_col = data[~(data[col] < acima_dp) &\n",
    "                          (data[col] > abaixo_dp)].index\n",
    "\n",
    "        index_to_delete.extend(index_col)\n",
    "    \n",
    "    index_to_delete = list(dict.fromkeys(index_to_delete))\n",
    "    \n",
    "    return index_to_delete"
   ]
  },
  {
   "cell_type": "markdown",
   "id": "c6cc7e0f",
   "metadata": {
    "papermill": {
     "duration": 0.015395,
     "end_time": "2022-11-08T15:29:47.813072",
     "exception": false,
     "start_time": "2022-11-08T15:29:47.797677",
     "status": "completed"
    },
    "tags": []
   },
   "source": [
    "## Dados"
   ]
  },
  {
   "cell_type": "markdown",
   "id": "4c0f8a22",
   "metadata": {
    "papermill": {
     "duration": 0.015324,
     "end_time": "2022-11-08T15:29:47.844158",
     "exception": false,
     "start_time": "2022-11-08T15:29:47.828834",
     "status": "completed"
    },
    "tags": []
   },
   "source": [
    "### Dados da Polícia Rodoviária Federal:"
   ]
  },
  {
   "cell_type": "markdown",
   "id": "dcdd4514",
   "metadata": {
    "papermill": {
     "duration": 0.016397,
     "end_time": "2022-11-08T15:29:47.876255",
     "exception": false,
     "start_time": "2022-11-08T15:29:47.859858",
     "status": "completed"
    },
    "tags": []
   },
   "source": [
    "Estes dados foram extraídos do do Kaggle [aqui nesse link](https://www.kaggle.com/datasets/equeiroz/acidentes-rodovias-federais-brasil-jan07-a-jul19)\n",
    "<br>\n",
    "\n",
    "Dados da Polícia Rodoviária Federal: https://portal.prf.gov.br/dados-abertos\n",
    "Cada registro corresponde a uma ocorrência (acidente), incluindo dados de localidade, nome da BR, km, condições meteorológicas e da estrada, horário, causa e tipo do acidente, quantidades de feridos e mortos."
   ]
  },
  {
   "cell_type": "code",
   "execution_count": 4,
   "id": "35f9f1a7",
   "metadata": {
    "execution": {
     "iopub.execute_input": "2022-11-08T15:29:47.910207Z",
     "iopub.status.busy": "2022-11-08T15:29:47.909821Z",
     "iopub.status.idle": "2022-11-08T15:30:26.537928Z",
     "shell.execute_reply": "2022-11-08T15:30:26.536514Z"
    },
    "papermill": {
     "duration": 38.647876,
     "end_time": "2022-11-08T15:30:26.540604",
     "exception": false,
     "start_time": "2022-11-08T15:29:47.892728",
     "status": "completed"
    },
    "tags": []
   },
   "outputs": [
    {
     "name": "stdout",
     "output_type": "stream",
     "text": [
      "/kaggle/input/acidentes-rodovias-federais-brasil-jan07-a-jul19/datatran2015.csv\n",
      "/kaggle/input/acidentes-rodovias-federais-brasil-jan07-a-jul19/datatran2016.csv\n",
      "/kaggle/input/acidentes-rodovias-federais-brasil-jan07-a-jul19/datatran2011.csv\n",
      "/kaggle/input/acidentes-rodovias-federais-brasil-jan07-a-jul19/datatran2017.csv\n",
      "/kaggle/input/acidentes-rodovias-federais-brasil-jan07-a-jul19/datatran2018.csv\n",
      "/kaggle/input/acidentes-rodovias-federais-brasil-jan07-a-jul19/datatran2009.csv\n",
      "/kaggle/input/acidentes-rodovias-federais-brasil-jan07-a-jul19/datatran2012.csv\n",
      "/kaggle/input/acidentes-rodovias-federais-brasil-jan07-a-jul19/datatran2010.csv\n",
      "/kaggle/input/acidentes-rodovias-federais-brasil-jan07-a-jul19/datatran2008.csv\n",
      "/kaggle/input/acidentes-rodovias-federais-brasil-jan07-a-jul19/datatran2013.csv\n",
      "/kaggle/input/acidentes-rodovias-federais-brasil-jan07-a-jul19/datatran2020.csv\n",
      "/kaggle/input/acidentes-rodovias-federais-brasil-jan07-a-jul19/datatran2007.csv\n",
      "/kaggle/input/acidentes-rodovias-federais-brasil-jan07-a-jul19/datatran2014.csv\n"
     ]
    }
   ],
   "source": [
    "dados = []\n",
    "for dirname, _, filenames in os.walk('/kaggle/input/acidentes-rodovias-federais-brasil-jan07-a-jul19'):\n",
    "    for filename in filenames:\n",
    "        print(os.path.join(dirname, filename))\n",
    "    \n",
    "        # leitura dos dados\n",
    "        df = pd.read_csv(os.path.join(dirname, filename), encoding='latin-1', sep=\";\", engine='python')\n",
    "        dados.append(df)\n",
    "dados = pd.concat(dados, ignore_index=True)"
   ]
  },
  {
   "cell_type": "code",
   "execution_count": 5,
   "id": "81e81a9d",
   "metadata": {
    "execution": {
     "iopub.execute_input": "2022-11-08T15:30:26.575325Z",
     "iopub.status.busy": "2022-11-08T15:30:26.574883Z",
     "iopub.status.idle": "2022-11-08T15:30:26.608486Z",
     "shell.execute_reply": "2022-11-08T15:30:26.607238Z"
    },
    "papermill": {
     "duration": 0.053888,
     "end_time": "2022-11-08T15:30:26.610990",
     "exception": false,
     "start_time": "2022-11-08T15:30:26.557102",
     "status": "completed"
    },
    "tags": []
   },
   "outputs": [
    {
     "data": {
      "text/html": [
       "<div>\n",
       "<style scoped>\n",
       "    .dataframe tbody tr th:only-of-type {\n",
       "        vertical-align: middle;\n",
       "    }\n",
       "\n",
       "    .dataframe tbody tr th {\n",
       "        vertical-align: top;\n",
       "    }\n",
       "\n",
       "    .dataframe thead th {\n",
       "        text-align: right;\n",
       "    }\n",
       "</style>\n",
       "<table border=\"1\" class=\"dataframe\">\n",
       "  <thead>\n",
       "    <tr style=\"text-align: right;\">\n",
       "      <th></th>\n",
       "      <th>id</th>\n",
       "      <th>data_inversa</th>\n",
       "      <th>dia_semana</th>\n",
       "      <th>horario</th>\n",
       "      <th>uf</th>\n",
       "      <th>br</th>\n",
       "      <th>km</th>\n",
       "      <th>municipio</th>\n",
       "      <th>causa_acidente</th>\n",
       "      <th>tipo_acidente</th>\n",
       "      <th>...</th>\n",
       "      <th>feridos_graves</th>\n",
       "      <th>ilesos</th>\n",
       "      <th>ignorados</th>\n",
       "      <th>feridos</th>\n",
       "      <th>veiculos</th>\n",
       "      <th>latitude</th>\n",
       "      <th>longitude</th>\n",
       "      <th>regional</th>\n",
       "      <th>delegacia</th>\n",
       "      <th>uop</th>\n",
       "    </tr>\n",
       "  </thead>\n",
       "  <tbody>\n",
       "    <tr>\n",
       "      <th>0</th>\n",
       "      <td>83298209.0</td>\n",
       "      <td>2015-01-01</td>\n",
       "      <td>Quinta</td>\n",
       "      <td>00:05:00</td>\n",
       "      <td>RJ</td>\n",
       "      <td>101</td>\n",
       "      <td>327.0</td>\n",
       "      <td>NITEROI</td>\n",
       "      <td>Outras</td>\n",
       "      <td>Colisão traseira</td>\n",
       "      <td>...</td>\n",
       "      <td>0</td>\n",
       "      <td>2</td>\n",
       "      <td>0</td>\n",
       "      <td>0</td>\n",
       "      <td>2</td>\n",
       "      <td>NaN</td>\n",
       "      <td>NaN</td>\n",
       "      <td>NaN</td>\n",
       "      <td>NaN</td>\n",
       "      <td>NaN</td>\n",
       "    </tr>\n",
       "    <tr>\n",
       "      <th>1</th>\n",
       "      <td>83298218.0</td>\n",
       "      <td>2015-01-01</td>\n",
       "      <td>Quinta</td>\n",
       "      <td>01:20:00</td>\n",
       "      <td>MS</td>\n",
       "      <td>163</td>\n",
       "      <td>434.4</td>\n",
       "      <td>CAMPO GRANDE</td>\n",
       "      <td>Animais na Pista</td>\n",
       "      <td>Saída de Pista</td>\n",
       "      <td>...</td>\n",
       "      <td>0</td>\n",
       "      <td>1</td>\n",
       "      <td>0</td>\n",
       "      <td>1</td>\n",
       "      <td>1</td>\n",
       "      <td>NaN</td>\n",
       "      <td>NaN</td>\n",
       "      <td>NaN</td>\n",
       "      <td>NaN</td>\n",
       "      <td>NaN</td>\n",
       "    </tr>\n",
       "    <tr>\n",
       "      <th>2</th>\n",
       "      <td>83298220.0</td>\n",
       "      <td>2015-01-01</td>\n",
       "      <td>Quinta</td>\n",
       "      <td>01:45:00</td>\n",
       "      <td>RJ</td>\n",
       "      <td>40</td>\n",
       "      <td>64.0</td>\n",
       "      <td>PETROPOLIS</td>\n",
       "      <td>Outras</td>\n",
       "      <td>Colisão com objeto fixo</td>\n",
       "      <td>...</td>\n",
       "      <td>0</td>\n",
       "      <td>2</td>\n",
       "      <td>0</td>\n",
       "      <td>0</td>\n",
       "      <td>2</td>\n",
       "      <td>NaN</td>\n",
       "      <td>NaN</td>\n",
       "      <td>NaN</td>\n",
       "      <td>NaN</td>\n",
       "      <td>NaN</td>\n",
       "    </tr>\n",
       "    <tr>\n",
       "      <th>3</th>\n",
       "      <td>83298221.0</td>\n",
       "      <td>2015-01-01</td>\n",
       "      <td>Quinta</td>\n",
       "      <td>02:50:00</td>\n",
       "      <td>SC</td>\n",
       "      <td>101</td>\n",
       "      <td>356.1</td>\n",
       "      <td>SANGAO</td>\n",
       "      <td>Falta de atenção</td>\n",
       "      <td>Saída de Pista</td>\n",
       "      <td>...</td>\n",
       "      <td>0</td>\n",
       "      <td>0</td>\n",
       "      <td>0</td>\n",
       "      <td>4</td>\n",
       "      <td>1</td>\n",
       "      <td>NaN</td>\n",
       "      <td>NaN</td>\n",
       "      <td>NaN</td>\n",
       "      <td>NaN</td>\n",
       "      <td>NaN</td>\n",
       "    </tr>\n",
       "    <tr>\n",
       "      <th>4</th>\n",
       "      <td>83298222.0</td>\n",
       "      <td>2015-01-01</td>\n",
       "      <td>Quinta</td>\n",
       "      <td>02:50:00</td>\n",
       "      <td>RS</td>\n",
       "      <td>101</td>\n",
       "      <td>25.9</td>\n",
       "      <td>TRES CACHOEIRAS</td>\n",
       "      <td>Falta de atenção</td>\n",
       "      <td>Saída de Pista</td>\n",
       "      <td>...</td>\n",
       "      <td>0</td>\n",
       "      <td>1</td>\n",
       "      <td>0</td>\n",
       "      <td>0</td>\n",
       "      <td>1</td>\n",
       "      <td>NaN</td>\n",
       "      <td>NaN</td>\n",
       "      <td>NaN</td>\n",
       "      <td>NaN</td>\n",
       "      <td>NaN</td>\n",
       "    </tr>\n",
       "  </tbody>\n",
       "</table>\n",
       "<p>5 rows × 31 columns</p>\n",
       "</div>"
      ],
      "text/plain": [
       "           id data_inversa dia_semana   horario  uf   br     km  \\\n",
       "0  83298209.0   2015-01-01     Quinta  00:05:00  RJ  101  327.0   \n",
       "1  83298218.0   2015-01-01     Quinta  01:20:00  MS  163  434.4   \n",
       "2  83298220.0   2015-01-01     Quinta  01:45:00  RJ   40   64.0   \n",
       "3  83298221.0   2015-01-01     Quinta  02:50:00  SC  101  356.1   \n",
       "4  83298222.0   2015-01-01     Quinta  02:50:00  RS  101   25.9   \n",
       "\n",
       "         municipio    causa_acidente            tipo_acidente  ...  \\\n",
       "0          NITEROI            Outras         Colisão traseira  ...   \n",
       "1     CAMPO GRANDE  Animais na Pista           Saída de Pista  ...   \n",
       "2       PETROPOLIS            Outras  Colisão com objeto fixo  ...   \n",
       "3           SANGAO  Falta de atenção           Saída de Pista  ...   \n",
       "4  TRES CACHOEIRAS  Falta de atenção           Saída de Pista  ...   \n",
       "\n",
       "  feridos_graves ilesos ignorados feridos veiculos latitude longitude  \\\n",
       "0              0      2         0       0        2      NaN       NaN   \n",
       "1              0      1         0       1        1      NaN       NaN   \n",
       "2              0      2         0       0        2      NaN       NaN   \n",
       "3              0      0         0       4        1      NaN       NaN   \n",
       "4              0      1         0       0        1      NaN       NaN   \n",
       "\n",
       "   regional  delegacia  uop  \n",
       "0       NaN        NaN  NaN  \n",
       "1       NaN        NaN  NaN  \n",
       "2       NaN        NaN  NaN  \n",
       "3       NaN        NaN  NaN  \n",
       "4       NaN        NaN  NaN  \n",
       "\n",
       "[5 rows x 31 columns]"
      ]
     },
     "execution_count": 5,
     "metadata": {},
     "output_type": "execute_result"
    }
   ],
   "source": [
    "dados.head()"
   ]
  },
  {
   "cell_type": "code",
   "execution_count": 6,
   "id": "189613e4",
   "metadata": {
    "execution": {
     "iopub.execute_input": "2022-11-08T15:30:26.647167Z",
     "iopub.status.busy": "2022-11-08T15:30:26.646468Z",
     "iopub.status.idle": "2022-11-08T15:30:26.669837Z",
     "shell.execute_reply": "2022-11-08T15:30:26.668289Z"
    },
    "papermill": {
     "duration": 0.044689,
     "end_time": "2022-11-08T15:30:26.672674",
     "exception": false,
     "start_time": "2022-11-08T15:30:26.627985",
     "status": "completed"
    },
    "tags": []
   },
   "outputs": [
    {
     "name": "stdout",
     "output_type": "stream",
     "text": [
      "<class 'pandas.core.frame.DataFrame'>\n",
      "RangeIndex: 1784454 entries, 0 to 1784453\n",
      "Data columns (total 31 columns):\n",
      " #   Column                  Dtype  \n",
      "---  ------                  -----  \n",
      " 0   id                      float64\n",
      " 1   data_inversa            object \n",
      " 2   dia_semana              object \n",
      " 3   horario                 object \n",
      " 4   uf                      object \n",
      " 5   br                      object \n",
      " 6   km                      object \n",
      " 7   municipio               object \n",
      " 8   causa_acidente          object \n",
      " 9   tipo_acidente           object \n",
      " 10  classificacao_acidente  object \n",
      " 11  fase_dia                object \n",
      " 12  sentido_via             object \n",
      " 13  condicao_metereologica  object \n",
      " 14  tipo_pista              object \n",
      " 15  tracado_via             object \n",
      " 16  uso_solo                object \n",
      " 17  ano                     float64\n",
      " 18  pessoas                 int64  \n",
      " 19  mortos                  int64  \n",
      " 20  feridos_leves           int64  \n",
      " 21  feridos_graves          int64  \n",
      " 22  ilesos                  int64  \n",
      " 23  ignorados               int64  \n",
      " 24  feridos                 int64  \n",
      " 25  veiculos                int64  \n",
      " 26  latitude                object \n",
      " 27  longitude               object \n",
      " 28  regional                object \n",
      " 29  delegacia               object \n",
      " 30  uop                     object \n",
      "dtypes: float64(2), int64(8), object(21)\n",
      "memory usage: 422.0+ MB\n"
     ]
    }
   ],
   "source": [
    "dados.info()"
   ]
  },
  {
   "cell_type": "markdown",
   "id": "f3056c10",
   "metadata": {
    "papermill": {
     "duration": 0.017382,
     "end_time": "2022-11-08T15:30:26.708614",
     "exception": false,
     "start_time": "2022-11-08T15:30:26.691232",
     "status": "completed"
    },
    "tags": []
   },
   "source": [
    "### Dados populacionais do Brasil"
   ]
  },
  {
   "cell_type": "code",
   "execution_count": 7,
   "id": "8cf719aa",
   "metadata": {
    "execution": {
     "iopub.execute_input": "2022-11-08T15:30:26.745619Z",
     "iopub.status.busy": "2022-11-08T15:30:26.744835Z",
     "iopub.status.idle": "2022-11-08T15:30:42.219377Z",
     "shell.execute_reply": "2022-11-08T15:30:42.218238Z"
    },
    "papermill": {
     "duration": 15.496561,
     "end_time": "2022-11-08T15:30:42.222858",
     "exception": false,
     "start_time": "2022-11-08T15:30:26.726297",
     "status": "completed"
    },
    "tags": []
   },
   "outputs": [
    {
     "name": "stdout",
     "output_type": "stream",
     "text": [
      "Collecting xlrd\r\n",
      "  Downloading xlrd-2.0.1-py2.py3-none-any.whl (96 kB)\r\n",
      "\u001b[2K     \u001b[90m━━━━━━━━━━━━━━━━━━━━━━━━━━━━━━━━━━━━━━━\u001b[0m \u001b[32m96.5/96.5 kB\u001b[0m \u001b[31m322.8 kB/s\u001b[0m eta \u001b[36m0:00:00\u001b[0m\r\n",
      "\u001b[?25hInstalling collected packages: xlrd\r\n",
      "Successfully installed xlrd-2.0.1\r\n",
      "\u001b[33mWARNING: Running pip as the 'root' user can result in broken permissions and conflicting behaviour with the system package manager. It is recommended to use a virtual environment instead: https://pip.pypa.io/warnings/venv\u001b[0m\u001b[33m\r\n",
      "\u001b[0m"
     ]
    }
   ],
   "source": [
    "!pip install xlrd"
   ]
  },
  {
   "cell_type": "code",
   "execution_count": 8,
   "id": "92ff860b",
   "metadata": {
    "execution": {
     "iopub.execute_input": "2022-11-08T15:30:42.264508Z",
     "iopub.status.busy": "2022-11-08T15:30:42.264033Z",
     "iopub.status.idle": "2022-11-08T15:30:42.303738Z",
     "shell.execute_reply": "2022-11-08T15:30:42.302204Z"
    },
    "papermill": {
     "duration": 0.063546,
     "end_time": "2022-11-08T15:30:42.306376",
     "exception": false,
     "start_time": "2022-11-08T15:30:42.242830",
     "status": "completed"
    },
    "tags": []
   },
   "outputs": [
    {
     "name": "stdout",
     "output_type": "stream",
     "text": [
      "/kaggle/input/populacao-brasil-ibge/tab1_4.xls\n"
     ]
    }
   ],
   "source": [
    "for dirname, _, filenames in os.walk('/kaggle/input/populacao-brasil-ibge'):\n",
    "    for filename in filenames:\n",
    "        print(os.path.join(dirname, filename))\n",
    "        # leitura dos dados\n",
    "        dados_populaco = pd.read_excel(os.path.join(dirname, filename), skiprows=3, skipfooter=3)"
   ]
  },
  {
   "cell_type": "markdown",
   "id": "350779e4",
   "metadata": {
    "papermill": {
     "duration": 0.017998,
     "end_time": "2022-11-08T15:30:42.343473",
     "exception": false,
     "start_time": "2022-11-08T15:30:42.325475",
     "status": "completed"
    },
    "tags": []
   },
   "source": [
    "## Pré processamento dos dados"
   ]
  },
  {
   "cell_type": "markdown",
   "id": "8cffc0d9",
   "metadata": {
    "papermill": {
     "duration": 0.017744,
     "end_time": "2022-11-08T15:30:42.379021",
     "exception": false,
     "start_time": "2022-11-08T15:30:42.361277",
     "status": "completed"
    },
    "tags": []
   },
   "source": [
    "### Dados rodoviários"
   ]
  },
  {
   "cell_type": "markdown",
   "id": "3aabfa7e",
   "metadata": {
    "papermill": {
     "duration": 0.018448,
     "end_time": "2022-11-08T15:30:42.416389",
     "exception": false,
     "start_time": "2022-11-08T15:30:42.397941",
     "status": "completed"
    },
    "tags": []
   },
   "source": [
    "- Alguns dados da coluna `data_inversa` estão com formatação diferentes de datas, e não estão no formato datetime, por isso vou ajustar para que todos fiquem no mesmo padrão em uma nova coluna chamada `data_hora` já incluindo também o horário "
   ]
  },
  {
   "cell_type": "code",
   "execution_count": 9,
   "id": "d7f0da28",
   "metadata": {
    "execution": {
     "iopub.execute_input": "2022-11-08T15:30:42.454598Z",
     "iopub.status.busy": "2022-11-08T15:30:42.453775Z",
     "iopub.status.idle": "2022-11-08T15:31:24.891001Z",
     "shell.execute_reply": "2022-11-08T15:31:24.889451Z"
    },
    "papermill": {
     "duration": 42.459416,
     "end_time": "2022-11-08T15:31:24.893858",
     "exception": false,
     "start_time": "2022-11-08T15:30:42.434442",
     "status": "completed"
    },
    "tags": []
   },
   "outputs": [],
   "source": [
    "dados['data_hora'] = dados['data_inversa']+' ' +dados['horario']\n",
    "dados['data_hora'] = pd.to_datetime(dados['data_hora'], infer_datetime_format=True)"
   ]
  },
  {
   "cell_type": "markdown",
   "id": "1ef2f9cd",
   "metadata": {
    "papermill": {
     "duration": 0.017796,
     "end_time": "2022-11-08T15:31:24.931252",
     "exception": false,
     "start_time": "2022-11-08T15:31:24.913456",
     "status": "completed"
    },
    "tags": []
   },
   "source": [
    "- Vou considerar que a soma de mortos, feridos_leves e feridos_graves devem representar o total de feridos.\n",
    "- Vou considerar que o total de pessoas é a soma de mortos, feridos_leves, feridos_graves, ilesos e ignorados\n",
    "\n",
    "Obs: Onde a soma de pessoas for resultante em 0 excluir linha (11 casos)"
   ]
  },
  {
   "cell_type": "code",
   "execution_count": 10,
   "id": "96390ddb",
   "metadata": {
    "execution": {
     "iopub.execute_input": "2022-11-08T15:31:24.969197Z",
     "iopub.status.busy": "2022-11-08T15:31:24.968816Z",
     "iopub.status.idle": "2022-11-08T15:31:25.003634Z",
     "shell.execute_reply": "2022-11-08T15:31:25.002659Z"
    },
    "papermill": {
     "duration": 0.057107,
     "end_time": "2022-11-08T15:31:25.006161",
     "exception": false,
     "start_time": "2022-11-08T15:31:24.949054",
     "status": "completed"
    },
    "tags": []
   },
   "outputs": [],
   "source": [
    "dados['feridos'] = dados['mortos'] + dados['feridos_leves'] + dados['feridos_graves']\n",
    "dados['pessoas'] = dados['mortos'] + dados['feridos_leves'] + dados['feridos_graves'] + dados['ilesos'] + dados['ignorados']"
   ]
  },
  {
   "cell_type": "markdown",
   "id": "bc8df81a",
   "metadata": {
    "papermill": {
     "duration": 0.017458,
     "end_time": "2022-11-08T15:31:25.041485",
     "exception": false,
     "start_time": "2022-11-08T15:31:25.024027",
     "status": "completed"
    },
    "tags": []
   },
   "source": [
    "- Essas serão as colunas que irei utilizar para seguir a análise:"
   ]
  },
  {
   "cell_type": "code",
   "execution_count": 11,
   "id": "03ced5ac",
   "metadata": {
    "execution": {
     "iopub.execute_input": "2022-11-08T15:31:25.080964Z",
     "iopub.status.busy": "2022-11-08T15:31:25.080266Z",
     "iopub.status.idle": "2022-11-08T15:31:26.980812Z",
     "shell.execute_reply": "2022-11-08T15:31:26.979459Z"
    },
    "papermill": {
     "duration": 1.923478,
     "end_time": "2022-11-08T15:31:26.983861",
     "exception": false,
     "start_time": "2022-11-08T15:31:25.060383",
     "status": "completed"
    },
    "tags": []
   },
   "outputs": [],
   "source": [
    "dados = dados[['dia_semana', 'uf', 'br', 'km', 'municipio', 'causa_acidente',  'tipo_acidente', 'classificacao_acidente', 'fase_dia', 'condicao_metereologica', 'tipo_pista', 'tracado_via', 'uso_solo', 'ano', 'pessoas', 'mortos', 'feridos_leves', 'feridos_graves', 'ilesos', 'feridos', 'ignorados','data_hora']]"
   ]
  },
  {
   "cell_type": "markdown",
   "id": "ad386dd1",
   "metadata": {
    "papermill": {
     "duration": 0.017546,
     "end_time": "2022-11-08T15:31:27.019656",
     "exception": false,
     "start_time": "2022-11-08T15:31:27.002110",
     "status": "completed"
    },
    "tags": []
   },
   "source": [
    "Vou aplicar algumas normalizações textuais para agrupar mais itens de mesmo valor futuramente"
   ]
  },
  {
   "cell_type": "code",
   "execution_count": 12,
   "id": "ee399666",
   "metadata": {
    "execution": {
     "iopub.execute_input": "2022-11-08T15:31:27.057787Z",
     "iopub.status.busy": "2022-11-08T15:31:27.057058Z",
     "iopub.status.idle": "2022-11-08T15:31:53.773426Z",
     "shell.execute_reply": "2022-11-08T15:31:53.772060Z"
    },
    "papermill": {
     "duration": 26.738837,
     "end_time": "2022-11-08T15:31:53.776316",
     "exception": false,
     "start_time": "2022-11-08T15:31:27.037479",
     "status": "completed"
    },
    "tags": []
   },
   "outputs": [],
   "source": [
    "# colunas com textos para normalizar\n",
    "columns = ['dia_semana', 'uf', 'municipio', 'causa_acidente', 'tipo_acidente',\n",
    "           'classificacao_acidente', 'fase_dia', 'condicao_metereologica', 'tipo_pista',\n",
    "           'tracado_via', 'uso_solo']\n",
    "\n",
    "for colum in columns:\n",
    "    # trata unicodes divergentes e espaços a mais\n",
    "    dados[colum] = dados[colum].apply(lambda x: trata_unicode(x).strip())\n",
    "    \n",
    "    # normaliza texto para minúsculo\n",
    "    dados[colum] = dados[colum].apply(lambda x: x.lower())"
   ]
  },
  {
   "cell_type": "markdown",
   "id": "94ecd644",
   "metadata": {
    "papermill": {
     "duration": 0.017434,
     "end_time": "2022-11-08T15:31:53.811840",
     "exception": false,
     "start_time": "2022-11-08T15:31:53.794406",
     "status": "completed"
    },
    "tags": []
   },
   "source": [
    "**Analisando Outliers**"
   ]
  },
  {
   "cell_type": "code",
   "execution_count": 13,
   "id": "dcaa6020",
   "metadata": {
    "execution": {
     "iopub.execute_input": "2022-11-08T15:31:53.849131Z",
     "iopub.status.busy": "2022-11-08T15:31:53.848699Z",
     "iopub.status.idle": "2022-11-08T15:31:54.327004Z",
     "shell.execute_reply": "2022-11-08T15:31:54.325732Z"
    },
    "papermill": {
     "duration": 0.500391,
     "end_time": "2022-11-08T15:31:54.329887",
     "exception": false,
     "start_time": "2022-11-08T15:31:53.829496",
     "status": "completed"
    },
    "tags": []
   },
   "outputs": [
    {
     "data": {
      "text/html": [
       "<div>\n",
       "<style scoped>\n",
       "    .dataframe tbody tr th:only-of-type {\n",
       "        vertical-align: middle;\n",
       "    }\n",
       "\n",
       "    .dataframe tbody tr th {\n",
       "        vertical-align: top;\n",
       "    }\n",
       "\n",
       "    .dataframe thead th {\n",
       "        text-align: right;\n",
       "    }\n",
       "</style>\n",
       "<table border=\"1\" class=\"dataframe\">\n",
       "  <thead>\n",
       "    <tr style=\"text-align: right;\">\n",
       "      <th></th>\n",
       "      <th>ano</th>\n",
       "      <th>pessoas</th>\n",
       "      <th>mortos</th>\n",
       "      <th>feridos_leves</th>\n",
       "      <th>feridos_graves</th>\n",
       "      <th>ilesos</th>\n",
       "      <th>feridos</th>\n",
       "      <th>ignorados</th>\n",
       "    </tr>\n",
       "  </thead>\n",
       "  <tbody>\n",
       "    <tr>\n",
       "      <th>count</th>\n",
       "      <td>1.465837e+06</td>\n",
       "      <td>1.784454e+06</td>\n",
       "      <td>1.784454e+06</td>\n",
       "      <td>1.784454e+06</td>\n",
       "      <td>1.784454e+06</td>\n",
       "      <td>1.784454e+06</td>\n",
       "      <td>1.784454e+06</td>\n",
       "      <td>1.784454e+06</td>\n",
       "    </tr>\n",
       "    <tr>\n",
       "      <th>mean</th>\n",
       "      <td>2.011082e+03</td>\n",
       "      <td>2.177088e+00</td>\n",
       "      <td>5.250121e-02</td>\n",
       "      <td>4.919135e-01</td>\n",
       "      <td>1.737131e-01</td>\n",
       "      <td>1.367224e+00</td>\n",
       "      <td>7.181278e-01</td>\n",
       "      <td>9.173618e-02</td>\n",
       "    </tr>\n",
       "    <tr>\n",
       "      <th>std</th>\n",
       "      <td>2.412219e+00</td>\n",
       "      <td>1.596769e+00</td>\n",
       "      <td>2.866305e-01</td>\n",
       "      <td>9.960312e-01</td>\n",
       "      <td>5.663299e-01</td>\n",
       "      <td>1.254949e+00</td>\n",
       "      <td>1.266368e+00</td>\n",
       "      <td>3.876237e-01</td>\n",
       "    </tr>\n",
       "    <tr>\n",
       "      <th>min</th>\n",
       "      <td>2.007000e+03</td>\n",
       "      <td>0.000000e+00</td>\n",
       "      <td>0.000000e+00</td>\n",
       "      <td>0.000000e+00</td>\n",
       "      <td>0.000000e+00</td>\n",
       "      <td>0.000000e+00</td>\n",
       "      <td>0.000000e+00</td>\n",
       "      <td>0.000000e+00</td>\n",
       "    </tr>\n",
       "    <tr>\n",
       "      <th>25%</th>\n",
       "      <td>2.009000e+03</td>\n",
       "      <td>1.000000e+00</td>\n",
       "      <td>0.000000e+00</td>\n",
       "      <td>0.000000e+00</td>\n",
       "      <td>0.000000e+00</td>\n",
       "      <td>1.000000e+00</td>\n",
       "      <td>0.000000e+00</td>\n",
       "      <td>0.000000e+00</td>\n",
       "    </tr>\n",
       "    <tr>\n",
       "      <th>50%</th>\n",
       "      <td>2.011000e+03</td>\n",
       "      <td>2.000000e+00</td>\n",
       "      <td>0.000000e+00</td>\n",
       "      <td>0.000000e+00</td>\n",
       "      <td>0.000000e+00</td>\n",
       "      <td>1.000000e+00</td>\n",
       "      <td>0.000000e+00</td>\n",
       "      <td>0.000000e+00</td>\n",
       "    </tr>\n",
       "    <tr>\n",
       "      <th>75%</th>\n",
       "      <td>2.013000e+03</td>\n",
       "      <td>2.000000e+00</td>\n",
       "      <td>0.000000e+00</td>\n",
       "      <td>1.000000e+00</td>\n",
       "      <td>0.000000e+00</td>\n",
       "      <td>2.000000e+00</td>\n",
       "      <td>1.000000e+00</td>\n",
       "      <td>0.000000e+00</td>\n",
       "    </tr>\n",
       "    <tr>\n",
       "      <th>max</th>\n",
       "      <td>2.015000e+03</td>\n",
       "      <td>2.480000e+02</td>\n",
       "      <td>3.300000e+01</td>\n",
       "      <td>5.800000e+01</td>\n",
       "      <td>2.220000e+02</td>\n",
       "      <td>9.900000e+01</td>\n",
       "      <td>2.450000e+02</td>\n",
       "      <td>8.600000e+01</td>\n",
       "    </tr>\n",
       "  </tbody>\n",
       "</table>\n",
       "</div>"
      ],
      "text/plain": [
       "                ano       pessoas        mortos  feridos_leves  \\\n",
       "count  1.465837e+06  1.784454e+06  1.784454e+06   1.784454e+06   \n",
       "mean   2.011082e+03  2.177088e+00  5.250121e-02   4.919135e-01   \n",
       "std    2.412219e+00  1.596769e+00  2.866305e-01   9.960312e-01   \n",
       "min    2.007000e+03  0.000000e+00  0.000000e+00   0.000000e+00   \n",
       "25%    2.009000e+03  1.000000e+00  0.000000e+00   0.000000e+00   \n",
       "50%    2.011000e+03  2.000000e+00  0.000000e+00   0.000000e+00   \n",
       "75%    2.013000e+03  2.000000e+00  0.000000e+00   1.000000e+00   \n",
       "max    2.015000e+03  2.480000e+02  3.300000e+01   5.800000e+01   \n",
       "\n",
       "       feridos_graves        ilesos       feridos     ignorados  \n",
       "count    1.784454e+06  1.784454e+06  1.784454e+06  1.784454e+06  \n",
       "mean     1.737131e-01  1.367224e+00  7.181278e-01  9.173618e-02  \n",
       "std      5.663299e-01  1.254949e+00  1.266368e+00  3.876237e-01  \n",
       "min      0.000000e+00  0.000000e+00  0.000000e+00  0.000000e+00  \n",
       "25%      0.000000e+00  1.000000e+00  0.000000e+00  0.000000e+00  \n",
       "50%      0.000000e+00  1.000000e+00  0.000000e+00  0.000000e+00  \n",
       "75%      0.000000e+00  2.000000e+00  1.000000e+00  0.000000e+00  \n",
       "max      2.220000e+02  9.900000e+01  2.450000e+02  8.600000e+01  "
      ]
     },
     "execution_count": 13,
     "metadata": {},
     "output_type": "execute_result"
    }
   ],
   "source": [
    "dados.describe()"
   ]
  },
  {
   "cell_type": "code",
   "execution_count": 14,
   "id": "92f1c660",
   "metadata": {
    "execution": {
     "iopub.execute_input": "2022-11-08T15:31:54.369594Z",
     "iopub.status.busy": "2022-11-08T15:31:54.369133Z",
     "iopub.status.idle": "2022-11-08T15:31:54.576311Z",
     "shell.execute_reply": "2022-11-08T15:31:54.575048Z"
    },
    "papermill": {
     "duration": 0.230521,
     "end_time": "2022-11-08T15:31:54.579124",
     "exception": false,
     "start_time": "2022-11-08T15:31:54.348603",
     "status": "completed"
    },
    "tags": []
   },
   "outputs": [],
   "source": [
    "import seaborn as sns\n",
    "import numpy as np"
   ]
  },
  {
   "cell_type": "code",
   "execution_count": 15,
   "id": "ae9846a3",
   "metadata": {
    "execution": {
     "iopub.execute_input": "2022-11-08T15:31:54.617889Z",
     "iopub.status.busy": "2022-11-08T15:31:54.617460Z",
     "iopub.status.idle": "2022-11-08T15:31:59.221263Z",
     "shell.execute_reply": "2022-11-08T15:31:59.220256Z"
    },
    "papermill": {
     "duration": 4.626109,
     "end_time": "2022-11-08T15:31:59.223756",
     "exception": false,
     "start_time": "2022-11-08T15:31:54.597647",
     "status": "completed"
    },
    "tags": []
   },
   "outputs": [
    {
     "data": {
      "image/png": "[encoded data removed]",
      "text/plain": [
       "<Figure size 1152x1152 with 9 Axes>"
      ]
     },
     "metadata": {
      "needs_background": "light"
     },
     "output_type": "display_data"
    }
   ],
   "source": [
    "import matplotlib.pyplot as plt\n",
    "\n",
    "fig, axes = plt.subplots(nrows=3, ncols=3,figsize=(16, 16))\n",
    "\n",
    "# seleciona apenas colunas que contém número\n",
    "for i, column in enumerate(dados.select_dtypes(include=np.number).columns.tolist()):\n",
    "\n",
    "    ax = axes[i//3,i%3]\n",
    "    axes[i//3,i%3].set_title(column)\n",
    "    sns.boxplot(x=dados[column],ax=ax)"
   ]
  },
  {
   "cell_type": "markdown",
   "id": "b9c9bad0",
   "metadata": {
    "papermill": {
     "duration": 0.018715,
     "end_time": "2022-11-08T15:31:59.262905",
     "exception": false,
     "start_time": "2022-11-08T15:31:59.244190",
     "status": "completed"
    },
    "tags": []
   },
   "source": [
    "Temos muitos outliers em nossos dados, vamos precisar levar isso em consideração para realizar algumas das análises e ter um valor mais próximo ao real e menos distorcido pela média."
   ]
  },
  {
   "cell_type": "code",
   "execution_count": 16,
   "id": "36a338cb",
   "metadata": {
    "execution": {
     "iopub.execute_input": "2022-11-08T15:31:59.303113Z",
     "iopub.status.busy": "2022-11-08T15:31:59.302083Z",
     "iopub.status.idle": "2022-11-08T15:32:00.872434Z",
     "shell.execute_reply": "2022-11-08T15:32:00.871309Z"
    },
    "papermill": {
     "duration": 1.594053,
     "end_time": "2022-11-08T15:32:00.875757",
     "exception": false,
     "start_time": "2022-11-08T15:31:59.281704",
     "status": "completed"
    },
    "tags": []
   },
   "outputs": [],
   "source": [
    "#remove outliers com até 8 desvios padrões\n",
    "colunas_outliers = ['pessoas', 'feridos_graves', 'feridos', 'ignorados','ilesos', 'mortos']\n",
    "\n",
    "#dados sem outliers\n",
    "index_remover = remover_outliers(dados, colunas_outliers, 8)\n",
    "dados_so = dados.drop(index_remover).copy()"
   ]
  },
  {
   "cell_type": "code",
   "execution_count": 17,
   "id": "8ce41bdc",
   "metadata": {
    "execution": {
     "iopub.execute_input": "2022-11-08T15:32:00.918502Z",
     "iopub.status.busy": "2022-11-08T15:32:00.917194Z",
     "iopub.status.idle": "2022-11-08T15:32:01.733649Z",
     "shell.execute_reply": "2022-11-08T15:32:01.732460Z"
    },
    "papermill": {
     "duration": 0.840757,
     "end_time": "2022-11-08T15:32:01.736516",
     "exception": false,
     "start_time": "2022-11-08T15:32:00.895759",
     "status": "completed"
    },
    "tags": []
   },
   "outputs": [],
   "source": [
    "# remove pessoas onde o número de pessoas é igual a 0\n",
    "dados_so.drop(dados_so[dados_so['pessoas'] == 0].index, inplace=True)"
   ]
  },
  {
   "cell_type": "markdown",
   "id": "74d76aaf",
   "metadata": {
    "papermill": {
     "duration": 0.018659,
     "end_time": "2022-11-08T15:32:01.774802",
     "exception": false,
     "start_time": "2022-11-08T15:32:01.756143",
     "status": "completed"
    },
    "tags": []
   },
   "source": [
    "Após a remoção de até 8 desvios padrões"
   ]
  },
  {
   "cell_type": "code",
   "execution_count": 18,
   "id": "058243bb",
   "metadata": {
    "execution": {
     "iopub.execute_input": "2022-11-08T15:32:01.814994Z",
     "iopub.status.busy": "2022-11-08T15:32:01.814581Z",
     "iopub.status.idle": "2022-11-08T15:32:06.092845Z",
     "shell.execute_reply": "2022-11-08T15:32:06.091611Z"
    },
    "papermill": {
     "duration": 4.301818,
     "end_time": "2022-11-08T15:32:06.095492",
     "exception": false,
     "start_time": "2022-11-08T15:32:01.793674",
     "status": "completed"
    },
    "tags": []
   },
   "outputs": [
    {
     "data": {
      "image/png": "[encoded data removed]",
      "text/plain": [
       "<Figure size 1152x1152 with 9 Axes>"
      ]
     },
     "metadata": {
      "needs_background": "light"
     },
     "output_type": "display_data"
    }
   ],
   "source": [
    "fig, axes = plt.subplots(nrows=3, ncols=3,figsize=(16, 16))\n",
    "\n",
    "# seleciona apenas colunas que contém número\n",
    "for i, column in enumerate(dados_so.select_dtypes(include=np.number).columns.tolist()):\n",
    "\n",
    "    ax = axes[i//3,i%3]\n",
    "    axes[i//3,i%3].set_title(column)\n",
    "    sns.boxplot(x=dados_so[column],ax=ax)"
   ]
  },
  {
   "cell_type": "code",
   "execution_count": 19,
   "id": "5c24578c",
   "metadata": {
    "execution": {
     "iopub.execute_input": "2022-11-08T15:32:06.136323Z",
     "iopub.status.busy": "2022-11-08T15:32:06.135558Z",
     "iopub.status.idle": "2022-11-08T15:32:06.142329Z",
     "shell.execute_reply": "2022-11-08T15:32:06.140667Z"
    },
    "papermill": {
     "duration": 0.030264,
     "end_time": "2022-11-08T15:32:06.145125",
     "exception": false,
     "start_time": "2022-11-08T15:32:06.114861",
     "status": "completed"
    },
    "tags": []
   },
   "outputs": [
    {
     "name": "stdout",
     "output_type": "stream",
     "text": [
      "Foram removidos 1.19% da base de dados\n"
     ]
    }
   ],
   "source": [
    "rm = 100 - (dados_so.shape[0] * 100)/dados.shape[0]\n",
    "print(f'Foram removidos {round(rm,2)}% da base de dados')"
   ]
  },
  {
   "cell_type": "markdown",
   "id": "4a0a1cbd",
   "metadata": {
    "papermill": {
     "duration": 0.019377,
     "end_time": "2022-11-08T15:32:06.184495",
     "exception": false,
     "start_time": "2022-11-08T15:32:06.165118",
     "status": "completed"
    },
    "tags": []
   },
   "source": [
    "**Acidentes mais graves costumam ser os que envolvem maior número de mortos e feridos e menor número de ilesos com isso vou adicionar pesos nos feridos, mortos, e ilesos para calcular a gravidade de um acidente**\n",
    "\n",
    "- `ilesos` ou `ignorados` = sem peso\n",
    "- `feridos_leves` = peso 2\n",
    "- `feridos_graves` = peso 4\n",
    "- `mortos` = peso 8\n",
    "\n",
    "<br>\n",
    "a gravidade vai ser calculada com base no percentual de pessoas feridas vezes o peso dos incidentes que levaram aos ferimentos ou morte, vou classificar a gravidade em: - muito grave\n",
    "- grave \n",
    "- médio\n",
    "- leve"
   ]
  },
  {
   "cell_type": "code",
   "execution_count": 20,
   "id": "e7bc6d0c",
   "metadata": {
    "execution": {
     "iopub.execute_input": "2022-11-08T15:32:06.225833Z",
     "iopub.status.busy": "2022-11-08T15:32:06.225394Z",
     "iopub.status.idle": "2022-11-08T15:32:06.740884Z",
     "shell.execute_reply": "2022-11-08T15:32:06.739785Z"
    },
    "papermill": {
     "duration": 0.539858,
     "end_time": "2022-11-08T15:32:06.743710",
     "exception": false,
     "start_time": "2022-11-08T15:32:06.203852",
     "status": "completed"
    },
    "tags": []
   },
   "outputs": [],
   "source": [
    "dados_so['percentual_feridos'] = (dados_so['feridos'] * 100)/dados_so['pessoas']\n",
    "\n",
    "dados_so['pesos'] = (dados_so['feridos_leves']*2) + (dados_so['feridos_graves']*4) + (dados_so['mortos']*8)\n",
    "\n",
    "# peso da gravidade\n",
    "dados_so['peso_gravidade'] = dados_so['percentual_feridos'] * dados_so['pesos']\n",
    "\n",
    "# cria 4 categorias para o peso da gravidade\n",
    "dados_so['gravidade'] = pd.cut(dados_so['peso_gravidade'],4, labels=['leve', 'médio', 'grave', 'muito_grave']).astype(str)"
   ]
  },
  {
   "cell_type": "markdown",
   "id": "0da8b7ba",
   "metadata": {
    "papermill": {
     "duration": 0.018917,
     "end_time": "2022-11-08T15:32:06.782883",
     "exception": false,
     "start_time": "2022-11-08T15:32:06.763966",
     "status": "completed"
    },
    "tags": []
   },
   "source": [
    "### Dados populacionais"
   ]
  },
  {
   "cell_type": "code",
   "execution_count": 21,
   "id": "129ebbdb",
   "metadata": {
    "execution": {
     "iopub.execute_input": "2022-11-08T15:32:06.824119Z",
     "iopub.status.busy": "2022-11-08T15:32:06.823271Z",
     "iopub.status.idle": "2022-11-08T15:32:06.829915Z",
     "shell.execute_reply": "2022-11-08T15:32:06.828681Z"
    },
    "papermill": {
     "duration": 0.029723,
     "end_time": "2022-11-08T15:32:06.832302",
     "exception": false,
     "start_time": "2022-11-08T15:32:06.802579",
     "status": "completed"
    },
    "tags": []
   },
   "outputs": [],
   "source": [
    "#filtrando linhas e colunas\n",
    "dados_populaco = dados_populaco[['Grandes Regiões\\ne\\nUnidades da Federação', 'Unnamed: 12']]\n",
    "dados_populaco = dados_populaco.iloc[3:]"
   ]
  },
  {
   "cell_type": "code",
   "execution_count": 22,
   "id": "d499cc9a",
   "metadata": {
    "execution": {
     "iopub.execute_input": "2022-11-08T15:32:06.873710Z",
     "iopub.status.busy": "2022-11-08T15:32:06.872723Z",
     "iopub.status.idle": "2022-11-08T15:32:06.879401Z",
     "shell.execute_reply": "2022-11-08T15:32:06.878194Z"
    },
    "papermill": {
     "duration": 0.029997,
     "end_time": "2022-11-08T15:32:06.882000",
     "exception": false,
     "start_time": "2022-11-08T15:32:06.852003",
     "status": "completed"
    },
    "tags": []
   },
   "outputs": [],
   "source": [
    "# renomeando\n",
    "dados_populaco.rename(columns={\"Grandes Regiões\\ne\\nUnidades da Federação\": \"estados\", \n",
    "                               'Unnamed: 12': 'qtd_populacao'}, inplace=True)"
   ]
  },
  {
   "cell_type": "code",
   "execution_count": 23,
   "id": "59061466",
   "metadata": {
    "execution": {
     "iopub.execute_input": "2022-11-08T15:32:06.922910Z",
     "iopub.status.busy": "2022-11-08T15:32:06.922463Z",
     "iopub.status.idle": "2022-11-08T15:32:06.928260Z",
     "shell.execute_reply": "2022-11-08T15:32:06.927424Z"
    },
    "papermill": {
     "duration": 0.029048,
     "end_time": "2022-11-08T15:32:06.930432",
     "exception": false,
     "start_time": "2022-11-08T15:32:06.901384",
     "status": "completed"
    },
    "tags": []
   },
   "outputs": [],
   "source": [
    "regioes = {'Norte': ['Rondônia', 'Acre', 'Amazonas', 'Roraima', 'Pará', 'Amapá', 'Tocantins'],\n",
    "           'Nordeste': ['Maranhão', 'Piauí', 'Ceará', 'Rio Grande do Norte', 'Paraíba', \n",
    "                        'Pernambuco', 'Alagoas', 'Sergipe', 'Bahia'],\n",
    "           'Sudeste': ['Minas Gerais', 'Espírito Santo', 'Rio de Janeiro', 'São Paulo'],\n",
    "           'Sul': ['Paraná', 'Santa Catarina', 'Rio Grande do Sul'],\n",
    "           'Centro-Oeste': ['Mato Grosso do Sul', 'Mato Grosso', 'Goiás', 'Distrito Federal']}"
   ]
  },
  {
   "cell_type": "code",
   "execution_count": 24,
   "id": "efe202bc",
   "metadata": {
    "execution": {
     "iopub.execute_input": "2022-11-08T15:32:06.971034Z",
     "iopub.status.busy": "2022-11-08T15:32:06.970259Z",
     "iopub.status.idle": "2022-11-08T15:32:06.984517Z",
     "shell.execute_reply": "2022-11-08T15:32:06.983227Z"
    },
    "papermill": {
     "duration": 0.037499,
     "end_time": "2022-11-08T15:32:06.987281",
     "exception": false,
     "start_time": "2022-11-08T15:32:06.949782",
     "status": "completed"
    },
    "tags": []
   },
   "outputs": [],
   "source": [
    "dados_populaco['regiao'] = ''\n",
    "\n",
    "for regiao in regioes.keys():\n",
    "    estados = regioes[regiao]\n",
    "    \n",
    "    filtro = dados_populaco['estados'].str.contains('|'.join(estados))\n",
    "    dados_populaco.loc[filtro,'regiao'] = regiao"
   ]
  },
  {
   "cell_type": "code",
   "execution_count": 25,
   "id": "fe02ff41",
   "metadata": {
    "execution": {
     "iopub.execute_input": "2022-11-08T15:32:07.027558Z",
     "iopub.status.busy": "2022-11-08T15:32:07.027125Z",
     "iopub.status.idle": "2022-11-08T15:32:07.042529Z",
     "shell.execute_reply": "2022-11-08T15:32:07.041280Z"
    },
    "papermill": {
     "duration": 0.038535,
     "end_time": "2022-11-08T15:32:07.045211",
     "exception": false,
     "start_time": "2022-11-08T15:32:07.006676",
     "status": "completed"
    },
    "tags": []
   },
   "outputs": [
    {
     "data": {
      "text/html": [
       "<div>\n",
       "<style scoped>\n",
       "    .dataframe tbody tr th:only-of-type {\n",
       "        vertical-align: middle;\n",
       "    }\n",
       "\n",
       "    .dataframe tbody tr th {\n",
       "        vertical-align: top;\n",
       "    }\n",
       "\n",
       "    .dataframe thead th {\n",
       "        text-align: right;\n",
       "    }\n",
       "</style>\n",
       "<table border=\"1\" class=\"dataframe\">\n",
       "  <thead>\n",
       "    <tr style=\"text-align: right;\">\n",
       "      <th></th>\n",
       "      <th>estados</th>\n",
       "      <th>qtd_populacao</th>\n",
       "      <th>regiao</th>\n",
       "    </tr>\n",
       "  </thead>\n",
       "  <tbody>\n",
       "    <tr>\n",
       "      <th>4</th>\n",
       "      <td>Rondônia</td>\n",
       "      <td>1562409</td>\n",
       "      <td>Norte</td>\n",
       "    </tr>\n",
       "    <tr>\n",
       "      <th>5</th>\n",
       "      <td>Acre</td>\n",
       "      <td>733559</td>\n",
       "      <td>Norte</td>\n",
       "    </tr>\n",
       "    <tr>\n",
       "      <th>6</th>\n",
       "      <td>Amazonas</td>\n",
       "      <td>3483985</td>\n",
       "      <td>Norte</td>\n",
       "    </tr>\n",
       "    <tr>\n",
       "      <th>7</th>\n",
       "      <td>Roraima</td>\n",
       "      <td>450479</td>\n",
       "      <td>Norte</td>\n",
       "    </tr>\n",
       "    <tr>\n",
       "      <th>8</th>\n",
       "      <td>Pará</td>\n",
       "      <td>7581051</td>\n",
       "      <td>Norte</td>\n",
       "    </tr>\n",
       "    <tr>\n",
       "      <th>9</th>\n",
       "      <td>Amapá</td>\n",
       "      <td>669526</td>\n",
       "      <td>Norte</td>\n",
       "    </tr>\n",
       "    <tr>\n",
       "      <th>10</th>\n",
       "      <td>Tocantins</td>\n",
       "      <td>1383445</td>\n",
       "      <td>Norte</td>\n",
       "    </tr>\n",
       "    <tr>\n",
       "      <th>12</th>\n",
       "      <td>Maranhão</td>\n",
       "      <td>6574789</td>\n",
       "      <td>Nordeste</td>\n",
       "    </tr>\n",
       "    <tr>\n",
       "      <th>13</th>\n",
       "      <td>Piauí</td>\n",
       "      <td>3118360</td>\n",
       "      <td>Nordeste</td>\n",
       "    </tr>\n",
       "    <tr>\n",
       "      <th>14</th>\n",
       "      <td>Ceará</td>\n",
       "      <td>8452381</td>\n",
       "      <td>Nordeste</td>\n",
       "    </tr>\n",
       "  </tbody>\n",
       "</table>\n",
       "</div>"
      ],
      "text/plain": [
       "      estados qtd_populacao    regiao\n",
       "4    Rondônia       1562409     Norte\n",
       "5        Acre        733559     Norte\n",
       "6    Amazonas       3483985     Norte\n",
       "7     Roraima        450479     Norte\n",
       "8        Pará       7581051     Norte\n",
       "9       Amapá        669526     Norte\n",
       "10  Tocantins       1383445     Norte\n",
       "12   Maranhão       6574789  Nordeste\n",
       "13      Piauí       3118360  Nordeste\n",
       "14      Ceará       8452381  Nordeste"
      ]
     },
     "execution_count": 25,
     "metadata": {},
     "output_type": "execute_result"
    }
   ],
   "source": [
    "#remove linhas das regioes\n",
    "dados_populaco = dados_populaco[~(dados_populaco['regiao'] == '')]\n",
    "dados_populaco.head(10)"
   ]
  },
  {
   "cell_type": "markdown",
   "id": "f2e83c92",
   "metadata": {
    "papermill": {
     "duration": 0.019295,
     "end_time": "2022-11-08T15:32:07.084093",
     "exception": false,
     "start_time": "2022-11-08T15:32:07.064798",
     "status": "completed"
    },
    "tags": []
   },
   "source": [
    "## Análise Exploratória"
   ]
  },
  {
   "cell_type": "markdown",
   "id": "73d17ee8",
   "metadata": {
    "papermill": {
     "duration": 0.019032,
     "end_time": "2022-11-08T15:32:07.122624",
     "exception": false,
     "start_time": "2022-11-08T15:32:07.103592",
     "status": "completed"
    },
    "tags": []
   },
   "source": [
    "Temos dois tipos de cenários principais nos casos de acidentes, um em que há feridos e outro onde não houveram feridos,podemos classificar alguns tipos de gravidade para estes acidentes levando em consideração o número de mortos, e feridos, assim como a quantidade de pessoas envolvidas no acidente, baseado nessas principais características vamos responder algumas perguntas sobre estes cenários.\n",
    "<br>\n",
    "<br>\n",
    "\n",
    "- **Qual o percentual de gravidade dos acidentes?**\n",
    "- **Em quais regiões mais ocorreram acidentes graves?**\n",
    "- **Dos acidentes graves, quais foram as principais causas?**\n",
    "- **Os acidentes com vítimas fatais aumentaram ou diminuiram ao passar dos anos?**\n",
    "- **Quais causas mais aumentaram ao passar dos anos que levaram a vítimas fatais?**\n",
    "- **Dos acidentes sem feridos quantos foram graves?**\n",
    "- **Dos acidentes sem feridos quais foram as principais causas?**\n",
    "- **Entere ambos cenários, com feridos e sem feridos quais eram as condições climáticas mais frequentes?**\n",
    "\n",
    "<br>"
   ]
  },
  {
   "cell_type": "markdown",
   "id": "8e993be8",
   "metadata": {
    "papermill": {
     "duration": 0.020023,
     "end_time": "2022-11-08T15:32:07.162132",
     "exception": false,
     "start_time": "2022-11-08T15:32:07.142109",
     "status": "completed"
    },
    "tags": []
   },
   "source": [
    "### Qual o percentual de gravidade dos acidentes?"
   ]
  },
  {
   "cell_type": "code",
   "execution_count": 26,
   "id": "d6d42a72",
   "metadata": {
    "execution": {
     "iopub.execute_input": "2022-11-08T15:32:07.203853Z",
     "iopub.status.busy": "2022-11-08T15:32:07.203457Z",
     "iopub.status.idle": "2022-11-08T15:32:10.203335Z",
     "shell.execute_reply": "2022-11-08T15:32:10.201967Z"
    },
    "papermill": {
     "duration": 3.024479,
     "end_time": "2022-11-08T15:32:10.206252",
     "exception": false,
     "start_time": "2022-11-08T15:32:07.181773",
     "status": "completed"
    },
    "tags": []
   },
   "outputs": [
    {
     "name": "stdout",
     "output_type": "stream",
     "text": [
      "{'leve': [700.0, 'green'], 'médio': [1400.0, 'olive'], 'grave': [2100.0, 'orange'], 'muito_grave': [2800.0, 'red']}\n"
     ]
    }
   ],
   "source": [
    "#separa os pesos máximos de cada tipo de gravidade e as cores que serão adicionadas ao gráfico\n",
    "gravidades = {}\n",
    "cores = ['green', 'olive','orange','red']\n",
    "i=0\n",
    "for gravidade in dados_so['gravidade'].unique():\n",
    "    peso_max = dados_so[dados_so['gravidade'] == gravidade]['peso_gravidade'].max()\n",
    "    gravidades[gravidade] = [peso_max, cores[i]]\n",
    "    i+=1\n",
    "print(gravidades)"
   ]
  },
  {
   "cell_type": "code",
   "execution_count": 27,
   "id": "dc1f490f",
   "metadata": {
    "execution": {
     "iopub.execute_input": "2022-11-08T15:32:10.248472Z",
     "iopub.status.busy": "2022-11-08T15:32:10.247937Z",
     "iopub.status.idle": "2022-11-08T15:32:29.932144Z",
     "shell.execute_reply": "2022-11-08T15:32:29.930692Z"
    },
    "papermill": {
     "duration": 19.709151,
     "end_time": "2022-11-08T15:32:29.935040",
     "exception": false,
     "start_time": "2022-11-08T15:32:10.225889",
     "status": "completed"
    },
    "tags": []
   },
   "outputs": [
    {
     "data": {
      "image/png": "[encoded data removed]",
      "text/plain": [
       "<Figure size 864x432 with 1 Axes>"
      ]
     },
     "metadata": {
      "needs_background": "light"
     },
     "output_type": "display_data"
    }
   ],
   "source": [
    "ax = sns.histplot(x = dados_so['peso_gravidade'], \n",
    "                  data = dados_so, \n",
    "                  kde = True, \n",
    "                  cumulative = True,\n",
    "                  stat = 'density')\n",
    "ax.figure.set_size_inches(12, 6)\n",
    "ax.set_title(\"Histograma Acumulado - peso da gravidade\")\n",
    "ax.set_xlabel(\"peso da gravidade\")\n",
    "\n",
    "for g in gravidades:\n",
    "    ax.axvline(gravidades[g][0], color=gravidades[g][1], linestyle=\"-\", label=g)\n",
    "ax.legend()\n",
    "ax;"
   ]
  },
  {
   "cell_type": "markdown",
   "id": "5b4413d9",
   "metadata": {
    "papermill": {
     "duration": 0.019987,
     "end_time": "2022-11-08T15:32:29.976162",
     "exception": false,
     "start_time": "2022-11-08T15:32:29.956175",
     "status": "completed"
    },
    "tags": []
   },
   "source": [
    "**Podemos ver que a maior parte do acidentes quase 96% são acidentes que podem ser considerados leves, 4% médios e menos que 0% graves e muito graves**"
   ]
  },
  {
   "cell_type": "code",
   "execution_count": 28,
   "id": "105dfc21",
   "metadata": {
    "execution": {
     "iopub.execute_input": "2022-11-08T15:32:30.018475Z",
     "iopub.status.busy": "2022-11-08T15:32:30.018052Z",
     "iopub.status.idle": "2022-11-08T15:32:30.189159Z",
     "shell.execute_reply": "2022-11-08T15:32:30.188009Z"
    },
    "papermill": {
     "duration": 0.195322,
     "end_time": "2022-11-08T15:32:30.191781",
     "exception": false,
     "start_time": "2022-11-08T15:32:29.996459",
     "status": "completed"
    },
    "tags": []
   },
   "outputs": [
    {
     "data": {
      "text/plain": [
       "leve           96.0\n",
       "médio           4.0\n",
       "grave           0.0\n",
       "muito_grave     0.0\n",
       "Name: gravidade, dtype: float64"
      ]
     },
     "execution_count": 28,
     "metadata": {},
     "output_type": "execute_result"
    }
   ],
   "source": [
    "round(dados_so['gravidade'].value_counts(normalize=True),2)*100"
   ]
  },
  {
   "cell_type": "markdown",
   "id": "abfefffc",
   "metadata": {
    "papermill": {
     "duration": 0.020099,
     "end_time": "2022-11-08T15:32:30.232270",
     "exception": false,
     "start_time": "2022-11-08T15:32:30.212171",
     "status": "completed"
    },
    "tags": []
   },
   "source": [
    "### Em quais regiões mais ocorreram acidentes graves?"
   ]
  },
  {
   "cell_type": "markdown",
   "id": "d91fc1a0",
   "metadata": {
    "papermill": {
     "duration": 0.019739,
     "end_time": "2022-11-08T15:32:30.272396",
     "exception": false,
     "start_time": "2022-11-08T15:32:30.252657",
     "status": "completed"
    },
    "tags": []
   },
   "source": [
    "Nesse momento não irei levar em consideração a densidade demográfica de cada região, mas apenas o número de acidentes"
   ]
  },
  {
   "cell_type": "code",
   "execution_count": 29,
   "id": "8685289e",
   "metadata": {
    "execution": {
     "iopub.execute_input": "2022-11-08T15:32:30.314607Z",
     "iopub.status.busy": "2022-11-08T15:32:30.314172Z",
     "iopub.status.idle": "2022-11-08T15:32:30.320845Z",
     "shell.execute_reply": "2022-11-08T15:32:30.319712Z"
    },
    "papermill": {
     "duration": 0.030381,
     "end_time": "2022-11-08T15:32:30.323108",
     "exception": false,
     "start_time": "2022-11-08T15:32:30.292727",
     "status": "completed"
    },
    "tags": []
   },
   "outputs": [],
   "source": [
    "regioes_siglas = {'Norte': ['ap', 'ac', 'pa', 'ro', 'to', 'rr', 'am'],\n",
    "                  'Nordeste': ['ba', 'pe', 'ce', 'se', 'ma', 'rn', 'pb', 'pi', 'al'],\n",
    "                  'Sul': ['sc', 'pr', 'rs'],\n",
    "                  'Sudeste': ['sp', 'rj', 'es', 'mg'],\n",
    "                  'Centro-Oeste': ['ms', 'mt', 'go', 'df']}"
   ]
  },
  {
   "cell_type": "code",
   "execution_count": 30,
   "id": "ead67e2b",
   "metadata": {
    "execution": {
     "iopub.execute_input": "2022-11-08T15:32:30.365784Z",
     "iopub.status.busy": "2022-11-08T15:32:30.365324Z",
     "iopub.status.idle": "2022-11-08T15:32:31.158759Z",
     "shell.execute_reply": "2022-11-08T15:32:31.157700Z"
    },
    "papermill": {
     "duration": 0.817981,
     "end_time": "2022-11-08T15:32:31.161463",
     "exception": false,
     "start_time": "2022-11-08T15:32:30.343482",
     "status": "completed"
    },
    "tags": []
   },
   "outputs": [],
   "source": [
    "dados_so['regiao'] = ''\n",
    "for regiao in regioes_siglas:\n",
    "    dados_so.loc[dados_so['uf'].isin(regioes_siglas[regiao]),'regiao'] = regiao"
   ]
  },
  {
   "cell_type": "code",
   "execution_count": 31,
   "id": "13e069bb",
   "metadata": {
    "execution": {
     "iopub.execute_input": "2022-11-08T15:32:31.205110Z",
     "iopub.status.busy": "2022-11-08T15:32:31.204677Z",
     "iopub.status.idle": "2022-11-08T15:32:32.848419Z",
     "shell.execute_reply": "2022-11-08T15:32:32.847283Z"
    },
    "papermill": {
     "duration": 1.668843,
     "end_time": "2022-11-08T15:32:32.851029",
     "exception": false,
     "start_time": "2022-11-08T15:32:31.182186",
     "status": "completed"
    },
    "tags": []
   },
   "outputs": [],
   "source": [
    "acidentes_graves = dados_so[(dados_so['gravidade'] == 'grave') |\n",
    "                            (dados_so['gravidade'] == 'muito grave')].copy()"
   ]
  },
  {
   "cell_type": "markdown",
   "id": "fb73e5f2",
   "metadata": {
    "papermill": {
     "duration": 0.020632,
     "end_time": "2022-11-08T15:32:32.892159",
     "exception": false,
     "start_time": "2022-11-08T15:32:32.871527",
     "status": "completed"
    },
    "tags": []
   },
   "source": [
    "**Normaliza em proporção a densidade demográfica das regiões**"
   ]
  },
  {
   "cell_type": "code",
   "execution_count": 32,
   "id": "2bb3110b",
   "metadata": {
    "execution": {
     "iopub.execute_input": "2022-11-08T15:32:32.934902Z",
     "iopub.status.busy": "2022-11-08T15:32:32.934446Z",
     "iopub.status.idle": "2022-11-08T15:32:32.948656Z",
     "shell.execute_reply": "2022-11-08T15:32:32.947390Z"
    },
    "papermill": {
     "duration": 0.038339,
     "end_time": "2022-11-08T15:32:32.951314",
     "exception": false,
     "start_time": "2022-11-08T15:32:32.912975",
     "status": "completed"
    },
    "tags": []
   },
   "outputs": [
    {
     "data": {
      "text/html": [
       "<div>\n",
       "<style scoped>\n",
       "    .dataframe tbody tr th:only-of-type {\n",
       "        vertical-align: middle;\n",
       "    }\n",
       "\n",
       "    .dataframe tbody tr th {\n",
       "        vertical-align: top;\n",
       "    }\n",
       "\n",
       "    .dataframe thead th {\n",
       "        text-align: right;\n",
       "    }\n",
       "</style>\n",
       "<table border=\"1\" class=\"dataframe\">\n",
       "  <thead>\n",
       "    <tr style=\"text-align: right;\">\n",
       "      <th></th>\n",
       "      <th>regiao</th>\n",
       "      <th>qtd_acidentes</th>\n",
       "    </tr>\n",
       "  </thead>\n",
       "  <tbody>\n",
       "    <tr>\n",
       "      <th>0</th>\n",
       "      <td>Centro-Oeste</td>\n",
       "      <td>753</td>\n",
       "    </tr>\n",
       "    <tr>\n",
       "      <th>1</th>\n",
       "      <td>Nordeste</td>\n",
       "      <td>1520</td>\n",
       "    </tr>\n",
       "    <tr>\n",
       "      <th>2</th>\n",
       "      <td>Norte</td>\n",
       "      <td>333</td>\n",
       "    </tr>\n",
       "    <tr>\n",
       "      <th>3</th>\n",
       "      <td>Sudeste</td>\n",
       "      <td>1700</td>\n",
       "    </tr>\n",
       "    <tr>\n",
       "      <th>4</th>\n",
       "      <td>Sul</td>\n",
       "      <td>1373</td>\n",
       "    </tr>\n",
       "  </tbody>\n",
       "</table>\n",
       "</div>"
      ],
      "text/plain": [
       "         regiao  qtd_acidentes\n",
       "0  Centro-Oeste            753\n",
       "1      Nordeste           1520\n",
       "2         Norte            333\n",
       "3       Sudeste           1700\n",
       "4           Sul           1373"
      ]
     },
     "execution_count": 32,
     "metadata": {},
     "output_type": "execute_result"
    }
   ],
   "source": [
    "# dados quantidade de acidentes graves por região\n",
    "regiao_acidentes = acidentes_graves.groupby(['regiao']).size().reset_index(name='qtd_acidentes').copy()\n",
    "regiao_acidentes"
   ]
  },
  {
   "cell_type": "code",
   "execution_count": 33,
   "id": "b41f594c",
   "metadata": {
    "execution": {
     "iopub.execute_input": "2022-11-08T15:32:32.994545Z",
     "iopub.status.busy": "2022-11-08T15:32:32.994108Z",
     "iopub.status.idle": "2022-11-08T15:32:33.010473Z",
     "shell.execute_reply": "2022-11-08T15:32:33.009184Z"
    },
    "papermill": {
     "duration": 0.040825,
     "end_time": "2022-11-08T15:32:33.012980",
     "exception": false,
     "start_time": "2022-11-08T15:32:32.972155",
     "status": "completed"
    },
    "tags": []
   },
   "outputs": [
    {
     "data": {
      "text/html": [
       "<div>\n",
       "<style scoped>\n",
       "    .dataframe tbody tr th:only-of-type {\n",
       "        vertical-align: middle;\n",
       "    }\n",
       "\n",
       "    .dataframe tbody tr th {\n",
       "        vertical-align: top;\n",
       "    }\n",
       "\n",
       "    .dataframe thead th {\n",
       "        text-align: right;\n",
       "    }\n",
       "</style>\n",
       "<table border=\"1\" class=\"dataframe\">\n",
       "  <thead>\n",
       "    <tr style=\"text-align: right;\">\n",
       "      <th></th>\n",
       "      <th>regiao</th>\n",
       "      <th>qtd_populacao</th>\n",
       "    </tr>\n",
       "  </thead>\n",
       "  <tbody>\n",
       "    <tr>\n",
       "      <th>0</th>\n",
       "      <td>Centro-Oeste</td>\n",
       "      <td>14058094</td>\n",
       "    </tr>\n",
       "    <tr>\n",
       "      <th>1</th>\n",
       "      <td>Nordeste</td>\n",
       "      <td>53081950</td>\n",
       "    </tr>\n",
       "    <tr>\n",
       "      <th>2</th>\n",
       "      <td>Norte</td>\n",
       "      <td>15864454</td>\n",
       "    </tr>\n",
       "    <tr>\n",
       "      <th>3</th>\n",
       "      <td>Sudeste</td>\n",
       "      <td>80364410</td>\n",
       "    </tr>\n",
       "    <tr>\n",
       "      <th>4</th>\n",
       "      <td>Sul</td>\n",
       "      <td>27386891</td>\n",
       "    </tr>\n",
       "  </tbody>\n",
       "</table>\n",
       "</div>"
      ],
      "text/plain": [
       "         regiao qtd_populacao\n",
       "0  Centro-Oeste      14058094\n",
       "1      Nordeste      53081950\n",
       "2         Norte      15864454\n",
       "3       Sudeste      80364410\n",
       "4           Sul      27386891"
      ]
     },
     "execution_count": 33,
     "metadata": {},
     "output_type": "execute_result"
    }
   ],
   "source": [
    "# dados quantidade populacional por região\n",
    "regiao_populacao = dados_populaco.groupby(['regiao'])['qtd_populacao'].sum().reset_index(\n",
    "    name='qtd_populacao')\n",
    "\n",
    "regiao_populacao"
   ]
  },
  {
   "cell_type": "code",
   "execution_count": 34,
   "id": "798f943e",
   "metadata": {
    "execution": {
     "iopub.execute_input": "2022-11-08T15:32:33.056584Z",
     "iopub.status.busy": "2022-11-08T15:32:33.055289Z",
     "iopub.status.idle": "2022-11-08T15:32:33.078535Z",
     "shell.execute_reply": "2022-11-08T15:32:33.077537Z"
    },
    "papermill": {
     "duration": 0.047282,
     "end_time": "2022-11-08T15:32:33.080763",
     "exception": false,
     "start_time": "2022-11-08T15:32:33.033481",
     "status": "completed"
    },
    "tags": []
   },
   "outputs": [
    {
     "data": {
      "text/html": [
       "<div>\n",
       "<style scoped>\n",
       "    .dataframe tbody tr th:only-of-type {\n",
       "        vertical-align: middle;\n",
       "    }\n",
       "\n",
       "    .dataframe tbody tr th {\n",
       "        vertical-align: top;\n",
       "    }\n",
       "\n",
       "    .dataframe thead th {\n",
       "        text-align: right;\n",
       "    }\n",
       "</style>\n",
       "<table border=\"1\" class=\"dataframe\">\n",
       "  <thead>\n",
       "    <tr style=\"text-align: right;\">\n",
       "      <th></th>\n",
       "      <th>regiao</th>\n",
       "      <th>qtd_acidentes</th>\n",
       "      <th>qtd_populacao</th>\n",
       "    </tr>\n",
       "  </thead>\n",
       "  <tbody>\n",
       "    <tr>\n",
       "      <th>0</th>\n",
       "      <td>Centro-Oeste</td>\n",
       "      <td>753</td>\n",
       "      <td>14058094</td>\n",
       "    </tr>\n",
       "    <tr>\n",
       "      <th>1</th>\n",
       "      <td>Nordeste</td>\n",
       "      <td>1520</td>\n",
       "      <td>53081950</td>\n",
       "    </tr>\n",
       "    <tr>\n",
       "      <th>2</th>\n",
       "      <td>Norte</td>\n",
       "      <td>333</td>\n",
       "      <td>15864454</td>\n",
       "    </tr>\n",
       "    <tr>\n",
       "      <th>3</th>\n",
       "      <td>Sudeste</td>\n",
       "      <td>1700</td>\n",
       "      <td>80364410</td>\n",
       "    </tr>\n",
       "    <tr>\n",
       "      <th>4</th>\n",
       "      <td>Sul</td>\n",
       "      <td>1373</td>\n",
       "      <td>27386891</td>\n",
       "    </tr>\n",
       "  </tbody>\n",
       "</table>\n",
       "</div>"
      ],
      "text/plain": [
       "         regiao  qtd_acidentes  qtd_populacao\n",
       "0  Centro-Oeste            753       14058094\n",
       "1      Nordeste           1520       53081950\n",
       "2         Norte            333       15864454\n",
       "3       Sudeste           1700       80364410\n",
       "4           Sul           1373       27386891"
      ]
     },
     "execution_count": 34,
     "metadata": {},
     "output_type": "execute_result"
    }
   ],
   "source": [
    "populacao_regiao_acidentes_graves = pd.merge(regiao_acidentes, regiao_populacao, how='inner', on='regiao')\n",
    "\n",
    "#converte para numero inteiro\n",
    "populacao_regiao_acidentes_graves['qtd_populacao'] = populacao_regiao_acidentes_graves['qtd_populacao'].astype(int)\n",
    "\n",
    "populacao_regiao_acidentes_graves"
   ]
  },
  {
   "cell_type": "code",
   "execution_count": 35,
   "id": "87c3f515",
   "metadata": {
    "execution": {
     "iopub.execute_input": "2022-11-08T15:32:33.124225Z",
     "iopub.status.busy": "2022-11-08T15:32:33.123823Z",
     "iopub.status.idle": "2022-11-08T15:32:33.133054Z",
     "shell.execute_reply": "2022-11-08T15:32:33.131541Z"
    },
    "papermill": {
     "duration": 0.034158,
     "end_time": "2022-11-08T15:32:33.135812",
     "exception": false,
     "start_time": "2022-11-08T15:32:33.101654",
     "status": "completed"
    },
    "tags": []
   },
   "outputs": [],
   "source": [
    "#calcula proporcao de acidentes por região\n",
    "populacao_regiao_acidentes_graves['proporcao'] = (populacao_regiao_acidentes_graves['qtd_acidentes']*1000000)/(populacao_regiao_acidentes_graves['qtd_populacao'])\n",
    "\n",
    "#percentual proporcional\n",
    "populacao_regiao_acidentes_graves['proporcao_percentual'] = (populacao_regiao_acidentes_graves['proporcao']*100)/populacao_regiao_acidentes_graves['proporcao'].sum()"
   ]
  },
  {
   "cell_type": "code",
   "execution_count": 36,
   "id": "32425674",
   "metadata": {
    "execution": {
     "iopub.execute_input": "2022-11-08T15:32:33.181563Z",
     "iopub.status.busy": "2022-11-08T15:32:33.180452Z",
     "iopub.status.idle": "2022-11-08T15:32:33.467044Z",
     "shell.execute_reply": "2022-11-08T15:32:33.465807Z"
    },
    "papermill": {
     "duration": 0.311816,
     "end_time": "2022-11-08T15:32:33.469711",
     "exception": false,
     "start_time": "2022-11-08T15:32:33.157895",
     "status": "completed"
    },
    "tags": []
   },
   "outputs": [
    {
     "data": {
      "image/png": "[encoded data removed]",
      "text/plain": [
       "<Figure size 1080x576 with 1 Axes>"
      ]
     },
     "metadata": {
      "needs_background": "light"
     },
     "output_type": "display_data"
    }
   ],
   "source": [
    "#percentuais\n",
    "percentuais = populacao_regiao_acidentes_graves.sort_values(by='proporcao_percentual', ascending=False)['proporcao_percentual'].values\n",
    "\n",
    "# ordena do estado com maior número para o de menor número\n",
    "order = populacao_regiao_acidentes_graves.sort_values(\n",
    "    by='proporcao', ascending=False)['regiao'].values\n",
    "\n",
    "# cor do gráfico\n",
    "palette = sns.diverging_palette(220, 20, as_cmap=False)\n",
    "palette.reverse()\n",
    "\n",
    "ax = sns.barplot(x='regiao',\n",
    "                   y='proporcao',\n",
    "                   data=populacao_regiao_acidentes_graves,\n",
    "                   order=order,\n",
    "                   palette=palette)\n",
    "ax.figure.set_size_inches(15, 8)\n",
    "plt.title('Acidentes Graves x Região')\n",
    "plt.xlabel('Regiões')\n",
    "plt.ylabel('Acidentes por milhão de habitantes')\n",
    "\n",
    "# monta percentual acima das barras\n",
    "i=0\n",
    "for p in ax.patches:\n",
    "    \n",
    "    percentege = percentuais[i]\n",
    "    text = (f'{round(percentege, 2)}%')\n",
    "    x = p.get_x() + p.get_width()/2\n",
    "    y = p.get_height()\n",
    "    ax.annotate(text, (x, y), ha='center')\n",
    "    i+=1"
   ]
  },
  {
   "cell_type": "markdown",
   "id": "f5a8e072",
   "metadata": {
    "papermill": {
     "duration": 0.020759,
     "end_time": "2022-11-08T15:32:33.512048",
     "exception": false,
     "start_time": "2022-11-08T15:32:33.491289",
     "status": "completed"
    },
    "tags": []
   },
   "source": [
    "Esse percentual leva em consideração a proporção entre acidentes graves e a densidade demográfica da região"
   ]
  },
  {
   "cell_type": "markdown",
   "id": "1dbc690c",
   "metadata": {
    "papermill": {
     "duration": 0.023025,
     "end_time": "2022-11-08T15:32:33.557930",
     "exception": false,
     "start_time": "2022-11-08T15:32:33.534905",
     "status": "completed"
    },
    "tags": []
   },
   "source": [
    "### Qual a probabilidade de morte conforme a gravidade do acidente"
   ]
  },
  {
   "cell_type": "code",
   "execution_count": 37,
   "id": "d17b767e",
   "metadata": {
    "execution": {
     "iopub.execute_input": "2022-11-08T15:32:33.603564Z",
     "iopub.status.busy": "2022-11-08T15:32:33.603160Z",
     "iopub.status.idle": "2022-11-08T15:32:35.102581Z",
     "shell.execute_reply": "2022-11-08T15:32:35.101227Z"
    },
    "papermill": {
     "duration": 1.525769,
     "end_time": "2022-11-08T15:32:35.105292",
     "exception": false,
     "start_time": "2022-11-08T15:32:33.579523",
     "status": "completed"
    },
    "tags": []
   },
   "outputs": [],
   "source": [
    "# binom.pmf(k,n,p)\n",
    "# k = número de sucesso que eu quero obter (1 morte)\n",
    "# n = número de eventos/possibilidades que estamos estudando (2 (vivo/morto)\n",
    "# p = probabilidade de sucesso (percentual de mortos dentro do grupo)\n",
    "\n",
    "data_prob_morte = {'gravidade': [], 'probabilidade_morte': []}\n",
    "\n",
    "gravidades = dados_so['gravidade'].value_counts().index\n",
    "total_gravidades = len(dados_so)\n",
    "\n",
    "for gravidade in gravidades:\n",
    "    \n",
    "    dados_gravidade = dados_so[dados_so['gravidade'] == gravidade]['mortos']\n",
    "    qtd_mortos = dados_gravidade.value_counts().loc[1]\n",
    "    probabilidade_sucesso = ((qtd_mortos*100)/len(dados_gravidade))*0.01\n",
    "    \n",
    "    # calcula a probabilidade de morte dentro de cada grupo\n",
    "    probabilidade = binom.pmf(1, 2, probabilidade_sucesso)\n",
    "    \n",
    "    data_prob_morte['gravidade'].append(gravidade)\n",
    "    data_prob_morte['probabilidade_morte'].append(round(probabilidade,2))\n",
    "    \n",
    "df_prob_morte_gravidade = pd.DataFrame(data=data_prob_morte)"
   ]
  },
  {
   "cell_type": "code",
   "execution_count": 38,
   "id": "9fedb98d",
   "metadata": {
    "execution": {
     "iopub.execute_input": "2022-11-08T15:32:35.154215Z",
     "iopub.status.busy": "2022-11-08T15:32:35.153166Z",
     "iopub.status.idle": "2022-11-08T15:32:35.407116Z",
     "shell.execute_reply": "2022-11-08T15:32:35.405907Z"
    },
    "papermill": {
     "duration": 0.280801,
     "end_time": "2022-11-08T15:32:35.409410",
     "exception": false,
     "start_time": "2022-11-08T15:32:35.128609",
     "status": "completed"
    },
    "tags": []
   },
   "outputs": [
    {
     "data": {
      "image/png": "[encoded data removed]",
      "text/plain": [
       "<Figure size 1080x576 with 1 Axes>"
      ]
     },
     "metadata": {
      "needs_background": "light"
     },
     "output_type": "display_data"
    }
   ],
   "source": [
    "ax = sns.barplot(x = df_prob_morte_gravidade['gravidade'],\n",
    "            y = df_prob_morte_gravidade['probabilidade_morte']*100, \n",
    "            palette='Set2')\n",
    "\n",
    "ax.figure.set_size_inches(15, 8)\n",
    "plt.title('Chance de morrer em um acidente conforme a gravidade')\n",
    "plt.xlabel('Gravidade')\n",
    "plt.ylabel('Probabilidade de morte')\n",
    "\n",
    "\n",
    "i=0\n",
    "for p in ax.patches:\n",
    "    \n",
    "    text = (f'{round(p.get_height())}%')\n",
    "    x = p.get_x() + p.get_width()/2\n",
    "    y = p.get_height()\n",
    "    ax.annotate(text, (x, y), ha='center')\n",
    "    i+=1"
   ]
  },
  {
   "cell_type": "markdown",
   "id": "1189a04b",
   "metadata": {
    "papermill": {
     "duration": 0.020832,
     "end_time": "2022-11-08T15:32:35.452523",
     "exception": false,
     "start_time": "2022-11-08T15:32:35.431691",
     "status": "completed"
    },
    "tags": []
   },
   "source": [
    "Podemos ver com este gráfico que a chance de morrer em acidentes médios e graves são mais altas, isso se da principalmente pela relação entre quantidade acidentes e número de mortos nessas duas categorias"
   ]
  },
  {
   "cell_type": "markdown",
   "id": "2e541353",
   "metadata": {
    "papermill": {
     "duration": 0.020608,
     "end_time": "2022-11-08T15:32:35.494066",
     "exception": false,
     "start_time": "2022-11-08T15:32:35.473458",
     "status": "completed"
    },
    "tags": []
   },
   "source": [
    "### Dos acidentes graves, quais foram as principais causas?"
   ]
  },
  {
   "cell_type": "code",
   "execution_count": 39,
   "id": "e6780fcb",
   "metadata": {
    "execution": {
     "iopub.execute_input": "2022-11-08T15:32:35.538288Z",
     "iopub.status.busy": "2022-11-08T15:32:35.537885Z",
     "iopub.status.idle": "2022-11-08T15:32:35.648381Z",
     "shell.execute_reply": "2022-11-08T15:32:35.646844Z"
    },
    "papermill": {
     "duration": 0.137236,
     "end_time": "2022-11-08T15:32:35.652490",
     "exception": false,
     "start_time": "2022-11-08T15:32:35.515254",
     "status": "completed"
    },
    "tags": []
   },
   "outputs": [
    {
     "data": {
      "image/png": "[encoded data removed]",
      "text/plain": [
       "<Figure size 432x288 with 1 Axes>"
      ]
     },
     "metadata": {},
     "output_type": "display_data"
    }
   ],
   "source": [
    "sem_causa = len(acidentes_graves[acidentes_graves['causa_acidente'] == 'outras'])\n",
    "com_causa = len(acidentes_graves[~(acidentes_graves['causa_acidente'] == 'outras')])\n",
    "\n",
    "plt.pie([sem_causa, com_causa], labels=['Sem causa', 'Com Causa'], autopct='%.0f%%')\n",
    "plt.show()"
   ]
  },
  {
   "cell_type": "markdown",
   "id": "2ec8e5c1",
   "metadata": {
    "papermill": {
     "duration": 0.039024,
     "end_time": "2022-11-08T15:32:35.747516",
     "exception": false,
     "start_time": "2022-11-08T15:32:35.708492",
     "status": "completed"
    },
    "tags": []
   },
   "source": [
    "**28% dos acidentes não possuem causas registradas**"
   ]
  },
  {
   "cell_type": "code",
   "execution_count": 40,
   "id": "766bb10f",
   "metadata": {
    "execution": {
     "iopub.execute_input": "2022-11-08T15:32:35.793973Z",
     "iopub.status.busy": "2022-11-08T15:32:35.793247Z",
     "iopub.status.idle": "2022-11-08T15:32:35.801765Z",
     "shell.execute_reply": "2022-11-08T15:32:35.800725Z"
    },
    "papermill": {
     "duration": 0.034909,
     "end_time": "2022-11-08T15:32:35.804207",
     "exception": false,
     "start_time": "2022-11-08T15:32:35.769298",
     "status": "completed"
    },
    "tags": []
   },
   "outputs": [],
   "source": [
    "## dos acidentes com causas registradas vamos analisar o percentual destas causas\n",
    "acidentes_cc = acidentes_graves['causa_acidente'].value_counts().iloc[1:].copy()\n",
    "acidentes_cc = round((acidentes_cc*100)/acidentes_cc.sum(),2)"
   ]
  },
  {
   "cell_type": "code",
   "execution_count": 41,
   "id": "0cf4dc37",
   "metadata": {
    "execution": {
     "iopub.execute_input": "2022-11-08T15:32:35.849163Z",
     "iopub.status.busy": "2022-11-08T15:32:35.848501Z",
     "iopub.status.idle": "2022-11-08T15:32:36.378405Z",
     "shell.execute_reply": "2022-11-08T15:32:36.377124Z"
    },
    "papermill": {
     "duration": 0.555988,
     "end_time": "2022-11-08T15:32:36.381574",
     "exception": false,
     "start_time": "2022-11-08T15:32:35.825586",
     "status": "completed"
    },
    "tags": []
   },
   "outputs": [
    {
     "data": {
      "image/png": "[encoded data removed]",
      "text/plain": [
       "<Figure size 720x1080 with 1 Axes>"
      ]
     },
     "metadata": {
      "needs_background": "light"
     },
     "output_type": "display_data"
    }
   ],
   "source": [
    "ax = sns.barplot(x=acidentes_cc.values, y=acidentes_cc.index)\n",
    "ax.figure.set_size_inches(10, 15)\n",
    "\n",
    "plt.title('Causas de morte em acidentes')\n",
    "plt.xlabel('Percentual')\n",
    "plt.ylabel('Causas')\n",
    "\n",
    "plt.show()"
   ]
  },
  {
   "cell_type": "markdown",
   "id": "2de9db42",
   "metadata": {
    "papermill": {
     "duration": 0.022349,
     "end_time": "2022-11-08T15:32:36.426877",
     "exception": false,
     "start_time": "2022-11-08T15:32:36.404528",
     "status": "completed"
    },
    "tags": []
   },
   "source": [
    "### Os acidentes com vítimas fatais aumentaram ou diminuiram ao passar dos anos?"
   ]
  },
  {
   "cell_type": "code",
   "execution_count": null,
   "id": "ca06cb33",
   "metadata": {
    "papermill": {
     "duration": 0.022991,
     "end_time": "2022-11-08T15:32:36.472548",
     "exception": false,
     "start_time": "2022-11-08T15:32:36.449557",
     "status": "completed"
    },
    "tags": []
   },
   "outputs": [],
   "source": []
  },
  {
   "cell_type": "markdown",
   "id": "778e7bd1",
   "metadata": {
    "papermill": {
     "duration": 0.022408,
     "end_time": "2022-11-08T15:32:36.517641",
     "exception": false,
     "start_time": "2022-11-08T15:32:36.495233",
     "status": "completed"
    },
    "tags": []
   },
   "source": [
    "### Quais causas mais aumentaram ao passar dos anos que levaram a vítimas fatais?"
   ]
  },
  {
   "cell_type": "code",
   "execution_count": null,
   "id": "64b7f7b0",
   "metadata": {
    "papermill": {
     "duration": 0.02272,
     "end_time": "2022-11-08T15:32:36.563251",
     "exception": false,
     "start_time": "2022-11-08T15:32:36.540531",
     "status": "completed"
    },
    "tags": []
   },
   "outputs": [],
   "source": []
  },
  {
   "cell_type": "markdown",
   "id": "4dcc69fa",
   "metadata": {
    "papermill": {
     "duration": 0.022308,
     "end_time": "2022-11-08T15:32:36.608748",
     "exception": false,
     "start_time": "2022-11-08T15:32:36.586440",
     "status": "completed"
    },
    "tags": []
   },
   "source": [
    "### Dos acidentes sem feridos quantos foram graves?"
   ]
  },
  {
   "cell_type": "code",
   "execution_count": null,
   "id": "d30d36f4",
   "metadata": {
    "papermill": {
     "duration": 0.022163,
     "end_time": "2022-11-08T15:32:36.653765",
     "exception": false,
     "start_time": "2022-11-08T15:32:36.631602",
     "status": "completed"
    },
    "tags": []
   },
   "outputs": [],
   "source": []
  },
  {
   "cell_type": "markdown",
   "id": "079569d9",
   "metadata": {
    "papermill": {
     "duration": 0.022453,
     "end_time": "2022-11-08T15:32:36.699463",
     "exception": false,
     "start_time": "2022-11-08T15:32:36.677010",
     "status": "completed"
    },
    "tags": []
   },
   "source": [
    "### Dos acidentes sem feridos quais foram as principais causas?"
   ]
  },
  {
   "cell_type": "code",
   "execution_count": null,
   "id": "10500c50",
   "metadata": {
    "papermill": {
     "duration": 0.022444,
     "end_time": "2022-11-08T15:32:36.744509",
     "exception": false,
     "start_time": "2022-11-08T15:32:36.722065",
     "status": "completed"
    },
    "tags": []
   },
   "outputs": [],
   "source": []
  },
  {
   "cell_type": "markdown",
   "id": "df33b210",
   "metadata": {
    "papermill": {
     "duration": 0.022197,
     "end_time": "2022-11-08T15:32:36.789282",
     "exception": false,
     "start_time": "2022-11-08T15:32:36.767085",
     "status": "completed"
    },
    "tags": []
   },
   "source": [
    "### Entere diferentes cenários, com feridos e sem feridos quais eram as condições climáticas mais frequentes?"
   ]
  },
  {
   "cell_type": "code",
   "execution_count": null,
   "id": "95975d1b",
   "metadata": {
    "papermill": {
     "duration": 0.022677,
     "end_time": "2022-11-08T15:32:36.834951",
     "exception": false,
     "start_time": "2022-11-08T15:32:36.812274",
     "status": "completed"
    },
    "tags": []
   },
   "outputs": [],
   "source": []
  },
  {
   "cell_type": "code",
   "execution_count": null,
   "id": "a739bf0e",
   "metadata": {
    "papermill": {
     "duration": 0.022397,
     "end_time": "2022-11-08T15:32:36.880052",
     "exception": false,
     "start_time": "2022-11-08T15:32:36.857655",
     "status": "completed"
    },
    "tags": []
   },
   "outputs": [],
   "source": []
  },
  {
   "cell_type": "code",
   "execution_count": null,
   "id": "c974169b",
   "metadata": {
    "papermill": {
     "duration": 0.022399,
     "end_time": "2022-11-08T15:32:36.925381",
     "exception": false,
     "start_time": "2022-11-08T15:32:36.902982",
     "status": "completed"
    },
    "tags": []
   },
   "outputs": [],
   "source": []
  }
 ],
 "metadata": {
  "kernelspec": {
   "display_name": "Python 3",
   "language": "python",
   "name": "python3"
  },
  "language_info": {
   "codemirror_mode": {
    "name": "ipython",
    "version": 3
   },
   "file_extension": ".py",
   "mimetype": "text/x-python",
   "name": "python",
   "nbconvert_exporter": "python",
   "pygments_lexer": "ipython3",
   "version": "3.7.12"
  },
  "papermill": {
   "default_parameters": {},
   "duration": 181.321115,
   "end_time": "2022-11-08T15:32:38.776450",
   "environment_variables": {},
   "exception": null,
   "input_path": "__notebook__.ipynb",
   "output_path": "__notebook__.ipynb",
   "parameters": {},
   "start_time": "2022-11-08T15:29:37.455335",
   "version": "2.3.4"
  }
 },
 "nbformat": 4,
 "nbformat_minor": 5
}
