{
 "cells": [
  {
   "cell_type": "markdown",
   "id": "e7101d01",
   "metadata": {
    "papermill": {
     "duration": 0.012511,
     "end_time": "2022-10-31T19:26:19.836880",
     "exception": false,
     "start_time": "2022-10-31T19:26:19.824369",
     "status": "completed"
    },
    "tags": []
   },
   "source": [
    "# Acidentes nas rodovias federais\n",
    "\n",
    "Temos como objetivo analisar os acidentes rodovias federais Brasil Jan/07 a Dez/20 e buscar insights referentes às condições de segurança das estradas e de motoristas brasileiros.\n",
    "\n",
    "![img](https://raw.githubusercontent.com/fervassoler/estudos-analise-dados/main/acidentes_rodovias_brasil/dataset-cover.jpg)"
   ]
  },
  {
   "cell_type": "markdown",
   "id": "923321fb",
   "metadata": {
    "papermill": {
     "duration": 0.012849,
     "end_time": "2022-10-31T19:26:19.861470",
     "exception": false,
     "start_time": "2022-10-31T19:26:19.848621",
     "status": "completed"
    },
    "tags": []
   },
   "source": [
    "## Libs"
   ]
  },
  {
   "cell_type": "code",
   "execution_count": 1,
   "id": "cef34a6f",
   "metadata": {
    "execution": {
     "iopub.execute_input": "2022-10-31T19:26:19.886798Z",
     "iopub.status.busy": "2022-10-31T19:26:19.886083Z",
     "iopub.status.idle": "2022-10-31T19:26:19.897654Z",
     "shell.execute_reply": "2022-10-31T19:26:19.896709Z"
    },
    "papermill": {
     "duration": 0.027756,
     "end_time": "2022-10-31T19:26:19.900364",
     "exception": false,
     "start_time": "2022-10-31T19:26:19.872608",
     "status": "completed"
    },
    "tags": []
   },
   "outputs": [],
   "source": [
    "import os\n",
    "import pandas as pd\n",
    "import unicodedata"
   ]
  },
  {
   "cell_type": "markdown",
   "id": "5fead5e1",
   "metadata": {
    "papermill": {
     "duration": 0.011163,
     "end_time": "2022-10-31T19:26:19.922919",
     "exception": false,
     "start_time": "2022-10-31T19:26:19.911756",
     "status": "completed"
    },
    "tags": []
   },
   "source": [
    "## Funções"
   ]
  },
  {
   "cell_type": "code",
   "execution_count": 2,
   "id": "a138137c",
   "metadata": {
    "execution": {
     "iopub.execute_input": "2022-10-31T19:26:19.948069Z",
     "iopub.status.busy": "2022-10-31T19:26:19.946924Z",
     "iopub.status.idle": "2022-10-31T19:26:19.952742Z",
     "shell.execute_reply": "2022-10-31T19:26:19.951891Z"
    },
    "papermill": {
     "duration": 0.020999,
     "end_time": "2022-10-31T19:26:19.955223",
     "exception": false,
     "start_time": "2022-10-31T19:26:19.934224",
     "status": "completed"
    },
    "tags": []
   },
   "outputs": [],
   "source": [
    "def trata_unicode(text):\n",
    "    \n",
    "    if type(text) == float:\n",
    "        text=''\n",
    "    try:\n",
    "        result = text.encode('iso-8859-1').decode('utf8')\n",
    "        return result\n",
    "    except:\n",
    "        pass\n",
    "    \n",
    "    return text"
   ]
  },
  {
   "cell_type": "code",
   "execution_count": 3,
   "id": "18f48465",
   "metadata": {
    "execution": {
     "iopub.execute_input": "2022-10-31T19:26:19.980906Z",
     "iopub.status.busy": "2022-10-31T19:26:19.979472Z",
     "iopub.status.idle": "2022-10-31T19:26:19.995331Z",
     "shell.execute_reply": "2022-10-31T19:26:19.993721Z"
    },
    "papermill": {
     "duration": 0.031483,
     "end_time": "2022-10-31T19:26:19.998098",
     "exception": false,
     "start_time": "2022-10-31T19:26:19.966615",
     "status": "completed"
    },
    "tags": []
   },
   "outputs": [],
   "source": [
    "def remover_outliers(data, colunas, n_dp):\n",
    "    \"\"\" recebe os dados e a coluna para remover o outlier e \n",
    "    o número de desvios padrão a ser considerado.\n",
    "\n",
    "    data: dados\n",
    "    coluna: coluna a ser analisada\n",
    "    n_dp: número de desvios padrão a ser considerados\n",
    "    \"\"\"\n",
    "    index_to_delete = []\n",
    "    for col in colunas:\n",
    "        \n",
    "        data[col].std()\n",
    "        data[col].mean()\n",
    "\n",
    "        dp = data[col].std()\n",
    "        media = data[col].mean()\n",
    "\n",
    "        acima_dp = media + (6 * dp)\n",
    "        abaixo_dp = media - (6 * dp)\n",
    "\n",
    "        index_col = data[~(data[col] < acima_dp) &\n",
    "                          (data[col] > abaixo_dp)].index\n",
    "\n",
    "        index_to_delete.extend(index_col)\n",
    "    \n",
    "    index_to_delete = list(dict.fromkeys(index_to_delete))\n",
    "    \n",
    "    return index_to_delete"
   ]
  },
  {
   "cell_type": "markdown",
   "id": "32b8ba3c",
   "metadata": {
    "papermill": {
     "duration": 0.011658,
     "end_time": "2022-10-31T19:26:20.021197",
     "exception": false,
     "start_time": "2022-10-31T19:26:20.009539",
     "status": "completed"
    },
    "tags": []
   },
   "source": [
    "## Dados"
   ]
  },
  {
   "cell_type": "markdown",
   "id": "1e68b305",
   "metadata": {
    "papermill": {
     "duration": 0.011377,
     "end_time": "2022-10-31T19:26:20.044304",
     "exception": false,
     "start_time": "2022-10-31T19:26:20.032927",
     "status": "completed"
    },
    "tags": []
   },
   "source": [
    "Estes dados foram extraídos do do Kaggle [aqui nesse link](https://www.kaggle.com/datasets/equeiroz/acidentes-rodovias-federais-brasil-jan07-a-jul19)\n",
    "<br>\n",
    "\n",
    "Dados da Polícia Rodoviária Federal: https://portal.prf.gov.br/dados-abertos\n",
    "Cada registro corresponde a uma ocorrência (acidente), incluindo dados de localidade, nome da BR, km, condições meteorológicas e da estrada, horário, causa e tipo do acidente, quantidades de feridos e mortos."
   ]
  },
  {
   "cell_type": "code",
   "execution_count": 4,
   "id": "e4e6bfc0",
   "metadata": {
    "execution": {
     "iopub.execute_input": "2022-10-31T19:26:20.069054Z",
     "iopub.status.busy": "2022-10-31T19:26:20.068576Z",
     "iopub.status.idle": "2022-10-31T19:26:57.857539Z",
     "shell.execute_reply": "2022-10-31T19:26:57.856069Z"
    },
    "papermill": {
     "duration": 37.804647,
     "end_time": "2022-10-31T19:26:57.860530",
     "exception": false,
     "start_time": "2022-10-31T19:26:20.055883",
     "status": "completed"
    },
    "tags": []
   },
   "outputs": [
    {
     "name": "stdout",
     "output_type": "stream",
     "text": [
      "/kaggle/input/acidentes-rodovias-federais-brasil-jan07-a-jul19/datatran2015.csv\n",
      "/kaggle/input/acidentes-rodovias-federais-brasil-jan07-a-jul19/datatran2016.csv\n",
      "/kaggle/input/acidentes-rodovias-federais-brasil-jan07-a-jul19/datatran2011.csv\n",
      "/kaggle/input/acidentes-rodovias-federais-brasil-jan07-a-jul19/datatran2017.csv\n",
      "/kaggle/input/acidentes-rodovias-federais-brasil-jan07-a-jul19/datatran2018.csv\n",
      "/kaggle/input/acidentes-rodovias-federais-brasil-jan07-a-jul19/datatran2009.csv\n",
      "/kaggle/input/acidentes-rodovias-federais-brasil-jan07-a-jul19/datatran2012.csv\n",
      "/kaggle/input/acidentes-rodovias-federais-brasil-jan07-a-jul19/datatran2010.csv\n",
      "/kaggle/input/acidentes-rodovias-federais-brasil-jan07-a-jul19/datatran2008.csv\n",
      "/kaggle/input/acidentes-rodovias-federais-brasil-jan07-a-jul19/datatran2013.csv\n",
      "/kaggle/input/acidentes-rodovias-federais-brasil-jan07-a-jul19/datatran2020.csv\n",
      "/kaggle/input/acidentes-rodovias-federais-brasil-jan07-a-jul19/datatran2007.csv\n",
      "/kaggle/input/acidentes-rodovias-federais-brasil-jan07-a-jul19/datatran2014.csv\n"
     ]
    }
   ],
   "source": [
    "dados = []\n",
    "for dirname, _, filenames in os.walk('/kaggle/input'):\n",
    "    for filename in filenames:\n",
    "        print(os.path.join(dirname, filename))\n",
    "    \n",
    "        # leitura dos dados\n",
    "        df = pd.read_csv(os.path.join(dirname, filename), encoding='latin-1', sep=\";\", engine='python')\n",
    "        dados.append(df)\n",
    "dados = pd.concat(dados, ignore_index=True)"
   ]
  },
  {
   "cell_type": "code",
   "execution_count": 5,
   "id": "1e2fc6e4",
   "metadata": {
    "execution": {
     "iopub.execute_input": "2022-10-31T19:26:57.887111Z",
     "iopub.status.busy": "2022-10-31T19:26:57.886692Z",
     "iopub.status.idle": "2022-10-31T19:26:57.921809Z",
     "shell.execute_reply": "2022-10-31T19:26:57.920466Z"
    },
    "papermill": {
     "duration": 0.051526,
     "end_time": "2022-10-31T19:26:57.924306",
     "exception": false,
     "start_time": "2022-10-31T19:26:57.872780",
     "status": "completed"
    },
    "tags": []
   },
   "outputs": [
    {
     "data": {
      "text/html": [
       "<div>\n",
       "<style scoped>\n",
       "    .dataframe tbody tr th:only-of-type {\n",
       "        vertical-align: middle;\n",
       "    }\n",
       "\n",
       "    .dataframe tbody tr th {\n",
       "        vertical-align: top;\n",
       "    }\n",
       "\n",
       "    .dataframe thead th {\n",
       "        text-align: right;\n",
       "    }\n",
       "</style>\n",
       "<table border=\"1\" class=\"dataframe\">\n",
       "  <thead>\n",
       "    <tr style=\"text-align: right;\">\n",
       "      <th></th>\n",
       "      <th>id</th>\n",
       "      <th>data_inversa</th>\n",
       "      <th>dia_semana</th>\n",
       "      <th>horario</th>\n",
       "      <th>uf</th>\n",
       "      <th>br</th>\n",
       "      <th>km</th>\n",
       "      <th>municipio</th>\n",
       "      <th>causa_acidente</th>\n",
       "      <th>tipo_acidente</th>\n",
       "      <th>...</th>\n",
       "      <th>feridos_graves</th>\n",
       "      <th>ilesos</th>\n",
       "      <th>ignorados</th>\n",
       "      <th>feridos</th>\n",
       "      <th>veiculos</th>\n",
       "      <th>latitude</th>\n",
       "      <th>longitude</th>\n",
       "      <th>regional</th>\n",
       "      <th>delegacia</th>\n",
       "      <th>uop</th>\n",
       "    </tr>\n",
       "  </thead>\n",
       "  <tbody>\n",
       "    <tr>\n",
       "      <th>0</th>\n",
       "      <td>83298209.0</td>\n",
       "      <td>2015-01-01</td>\n",
       "      <td>Quinta</td>\n",
       "      <td>00:05:00</td>\n",
       "      <td>RJ</td>\n",
       "      <td>101</td>\n",
       "      <td>327.0</td>\n",
       "      <td>NITEROI</td>\n",
       "      <td>Outras</td>\n",
       "      <td>Colisão traseira</td>\n",
       "      <td>...</td>\n",
       "      <td>0</td>\n",
       "      <td>2</td>\n",
       "      <td>0</td>\n",
       "      <td>0</td>\n",
       "      <td>2</td>\n",
       "      <td>NaN</td>\n",
       "      <td>NaN</td>\n",
       "      <td>NaN</td>\n",
       "      <td>NaN</td>\n",
       "      <td>NaN</td>\n",
       "    </tr>\n",
       "    <tr>\n",
       "      <th>1</th>\n",
       "      <td>83298218.0</td>\n",
       "      <td>2015-01-01</td>\n",
       "      <td>Quinta</td>\n",
       "      <td>01:20:00</td>\n",
       "      <td>MS</td>\n",
       "      <td>163</td>\n",
       "      <td>434.4</td>\n",
       "      <td>CAMPO GRANDE</td>\n",
       "      <td>Animais na Pista</td>\n",
       "      <td>Saída de Pista</td>\n",
       "      <td>...</td>\n",
       "      <td>0</td>\n",
       "      <td>1</td>\n",
       "      <td>0</td>\n",
       "      <td>1</td>\n",
       "      <td>1</td>\n",
       "      <td>NaN</td>\n",
       "      <td>NaN</td>\n",
       "      <td>NaN</td>\n",
       "      <td>NaN</td>\n",
       "      <td>NaN</td>\n",
       "    </tr>\n",
       "    <tr>\n",
       "      <th>2</th>\n",
       "      <td>83298220.0</td>\n",
       "      <td>2015-01-01</td>\n",
       "      <td>Quinta</td>\n",
       "      <td>01:45:00</td>\n",
       "      <td>RJ</td>\n",
       "      <td>40</td>\n",
       "      <td>64.0</td>\n",
       "      <td>PETROPOLIS</td>\n",
       "      <td>Outras</td>\n",
       "      <td>Colisão com objeto fixo</td>\n",
       "      <td>...</td>\n",
       "      <td>0</td>\n",
       "      <td>2</td>\n",
       "      <td>0</td>\n",
       "      <td>0</td>\n",
       "      <td>2</td>\n",
       "      <td>NaN</td>\n",
       "      <td>NaN</td>\n",
       "      <td>NaN</td>\n",
       "      <td>NaN</td>\n",
       "      <td>NaN</td>\n",
       "    </tr>\n",
       "    <tr>\n",
       "      <th>3</th>\n",
       "      <td>83298221.0</td>\n",
       "      <td>2015-01-01</td>\n",
       "      <td>Quinta</td>\n",
       "      <td>02:50:00</td>\n",
       "      <td>SC</td>\n",
       "      <td>101</td>\n",
       "      <td>356.1</td>\n",
       "      <td>SANGAO</td>\n",
       "      <td>Falta de atenção</td>\n",
       "      <td>Saída de Pista</td>\n",
       "      <td>...</td>\n",
       "      <td>0</td>\n",
       "      <td>0</td>\n",
       "      <td>0</td>\n",
       "      <td>4</td>\n",
       "      <td>1</td>\n",
       "      <td>NaN</td>\n",
       "      <td>NaN</td>\n",
       "      <td>NaN</td>\n",
       "      <td>NaN</td>\n",
       "      <td>NaN</td>\n",
       "    </tr>\n",
       "    <tr>\n",
       "      <th>4</th>\n",
       "      <td>83298222.0</td>\n",
       "      <td>2015-01-01</td>\n",
       "      <td>Quinta</td>\n",
       "      <td>02:50:00</td>\n",
       "      <td>RS</td>\n",
       "      <td>101</td>\n",
       "      <td>25.9</td>\n",
       "      <td>TRES CACHOEIRAS</td>\n",
       "      <td>Falta de atenção</td>\n",
       "      <td>Saída de Pista</td>\n",
       "      <td>...</td>\n",
       "      <td>0</td>\n",
       "      <td>1</td>\n",
       "      <td>0</td>\n",
       "      <td>0</td>\n",
       "      <td>1</td>\n",
       "      <td>NaN</td>\n",
       "      <td>NaN</td>\n",
       "      <td>NaN</td>\n",
       "      <td>NaN</td>\n",
       "      <td>NaN</td>\n",
       "    </tr>\n",
       "  </tbody>\n",
       "</table>\n",
       "<p>5 rows × 31 columns</p>\n",
       "</div>"
      ],
      "text/plain": [
       "           id data_inversa dia_semana   horario  uf   br     km  \\\n",
       "0  83298209.0   2015-01-01     Quinta  00:05:00  RJ  101  327.0   \n",
       "1  83298218.0   2015-01-01     Quinta  01:20:00  MS  163  434.4   \n",
       "2  83298220.0   2015-01-01     Quinta  01:45:00  RJ   40   64.0   \n",
       "3  83298221.0   2015-01-01     Quinta  02:50:00  SC  101  356.1   \n",
       "4  83298222.0   2015-01-01     Quinta  02:50:00  RS  101   25.9   \n",
       "\n",
       "         municipio    causa_acidente            tipo_acidente  ...  \\\n",
       "0          NITEROI            Outras         Colisão traseira  ...   \n",
       "1     CAMPO GRANDE  Animais na Pista           Saída de Pista  ...   \n",
       "2       PETROPOLIS            Outras  Colisão com objeto fixo  ...   \n",
       "3           SANGAO  Falta de atenção           Saída de Pista  ...   \n",
       "4  TRES CACHOEIRAS  Falta de atenção           Saída de Pista  ...   \n",
       "\n",
       "  feridos_graves ilesos ignorados feridos veiculos latitude longitude  \\\n",
       "0              0      2         0       0        2      NaN       NaN   \n",
       "1              0      1         0       1        1      NaN       NaN   \n",
       "2              0      2         0       0        2      NaN       NaN   \n",
       "3              0      0         0       4        1      NaN       NaN   \n",
       "4              0      1         0       0        1      NaN       NaN   \n",
       "\n",
       "   regional  delegacia  uop  \n",
       "0       NaN        NaN  NaN  \n",
       "1       NaN        NaN  NaN  \n",
       "2       NaN        NaN  NaN  \n",
       "3       NaN        NaN  NaN  \n",
       "4       NaN        NaN  NaN  \n",
       "\n",
       "[5 rows x 31 columns]"
      ]
     },
     "execution_count": 5,
     "metadata": {},
     "output_type": "execute_result"
    }
   ],
   "source": [
    "dados.head()"
   ]
  },
  {
   "cell_type": "code",
   "execution_count": 6,
   "id": "450b5471",
   "metadata": {
    "execution": {
     "iopub.execute_input": "2022-10-31T19:26:57.951372Z",
     "iopub.status.busy": "2022-10-31T19:26:57.950937Z",
     "iopub.status.idle": "2022-10-31T19:26:57.971615Z",
     "shell.execute_reply": "2022-10-31T19:26:57.969909Z"
    },
    "papermill": {
     "duration": 0.037443,
     "end_time": "2022-10-31T19:26:57.974438",
     "exception": false,
     "start_time": "2022-10-31T19:26:57.936995",
     "status": "completed"
    },
    "tags": []
   },
   "outputs": [
    {
     "name": "stdout",
     "output_type": "stream",
     "text": [
      "<class 'pandas.core.frame.DataFrame'>\n",
      "RangeIndex: 1784454 entries, 0 to 1784453\n",
      "Data columns (total 31 columns):\n",
      " #   Column                  Dtype  \n",
      "---  ------                  -----  \n",
      " 0   id                      float64\n",
      " 1   data_inversa            object \n",
      " 2   dia_semana              object \n",
      " 3   horario                 object \n",
      " 4   uf                      object \n",
      " 5   br                      object \n",
      " 6   km                      object \n",
      " 7   municipio               object \n",
      " 8   causa_acidente          object \n",
      " 9   tipo_acidente           object \n",
      " 10  classificacao_acidente  object \n",
      " 11  fase_dia                object \n",
      " 12  sentido_via             object \n",
      " 13  condicao_metereologica  object \n",
      " 14  tipo_pista              object \n",
      " 15  tracado_via             object \n",
      " 16  uso_solo                object \n",
      " 17  ano                     float64\n",
      " 18  pessoas                 int64  \n",
      " 19  mortos                  int64  \n",
      " 20  feridos_leves           int64  \n",
      " 21  feridos_graves          int64  \n",
      " 22  ilesos                  int64  \n",
      " 23  ignorados               int64  \n",
      " 24  feridos                 int64  \n",
      " 25  veiculos                int64  \n",
      " 26  latitude                object \n",
      " 27  longitude               object \n",
      " 28  regional                object \n",
      " 29  delegacia               object \n",
      " 30  uop                     object \n",
      "dtypes: float64(2), int64(8), object(21)\n",
      "memory usage: 422.0+ MB\n"
     ]
    }
   ],
   "source": [
    "dados.info()"
   ]
  },
  {
   "cell_type": "markdown",
   "id": "d89159aa",
   "metadata": {
    "papermill": {
     "duration": 0.012251,
     "end_time": "2022-10-31T19:26:57.999287",
     "exception": false,
     "start_time": "2022-10-31T19:26:57.987036",
     "status": "completed"
    },
    "tags": []
   },
   "source": [
    "## Pré processamento dos dados"
   ]
  },
  {
   "cell_type": "markdown",
   "id": "6e518141",
   "metadata": {
    "papermill": {
     "duration": 0.012285,
     "end_time": "2022-10-31T19:26:58.024712",
     "exception": false,
     "start_time": "2022-10-31T19:26:58.012427",
     "status": "completed"
    },
    "tags": []
   },
   "source": [
    "- Alguns dados da coluna `data_inversa` estão com formatação diferentes de datas, e não estão no formato datetime, por isso vou ajustar para que todos fiquem no mesmo padrão em uma nova coluna chamada `data_hora` já incluindo também o horário "
   ]
  },
  {
   "cell_type": "code",
   "execution_count": 7,
   "id": "18442003",
   "metadata": {
    "execution": {
     "iopub.execute_input": "2022-10-31T19:26:58.051897Z",
     "iopub.status.busy": "2022-10-31T19:26:58.051462Z",
     "iopub.status.idle": "2022-10-31T19:27:39.993861Z",
     "shell.execute_reply": "2022-10-31T19:27:39.992609Z"
    },
    "papermill": {
     "duration": 41.959387,
     "end_time": "2022-10-31T19:27:39.996745",
     "exception": false,
     "start_time": "2022-10-31T19:26:58.037358",
     "status": "completed"
    },
    "tags": []
   },
   "outputs": [],
   "source": [
    "dados['data_hora'] = dados['data_inversa']+' ' +dados['horario']\n",
    "dados['data_hora'] = pd.to_datetime(dados['data_hora'], infer_datetime_format=True)"
   ]
  },
  {
   "cell_type": "markdown",
   "id": "6e4a9399",
   "metadata": {
    "papermill": {
     "duration": 0.012127,
     "end_time": "2022-10-31T19:27:40.021680",
     "exception": false,
     "start_time": "2022-10-31T19:27:40.009553",
     "status": "completed"
    },
    "tags": []
   },
   "source": [
    "- Vou considerar que a soma de mortos, feridos_leves e feridos_graves devem representar o total de feridos.\n",
    "- Vou considerar que o total de pessoas é a soma de mortos, feridos_leves, feridos_graves, ilesos e ignorados\n",
    "\n",
    "Obs: Onde a soma de pessoas for resultante em 0 excluir linha (11 casos)"
   ]
  },
  {
   "cell_type": "code",
   "execution_count": 8,
   "id": "701cd15c",
   "metadata": {
    "execution": {
     "iopub.execute_input": "2022-10-31T19:27:40.048792Z",
     "iopub.status.busy": "2022-10-31T19:27:40.048371Z",
     "iopub.status.idle": "2022-10-31T19:27:40.091780Z",
     "shell.execute_reply": "2022-10-31T19:27:40.090478Z"
    },
    "papermill": {
     "duration": 0.060319,
     "end_time": "2022-10-31T19:27:40.094526",
     "exception": false,
     "start_time": "2022-10-31T19:27:40.034207",
     "status": "completed"
    },
    "tags": []
   },
   "outputs": [],
   "source": [
    "dados['feridos'] = dados['mortos'] + dados['feridos_leves'] + dados['feridos_graves']\n",
    "dados['pessoas'] = dados['mortos'] + dados['feridos_leves'] + dados['feridos_graves'] + dados['ilesos'] + dados['ignorados']"
   ]
  },
  {
   "cell_type": "markdown",
   "id": "fa550a15",
   "metadata": {
    "papermill": {
     "duration": 0.012081,
     "end_time": "2022-10-31T19:27:40.119094",
     "exception": false,
     "start_time": "2022-10-31T19:27:40.107013",
     "status": "completed"
    },
    "tags": []
   },
   "source": [
    "- Essas serão as colunas que irei utilizar para seguir a análise:"
   ]
  },
  {
   "cell_type": "code",
   "execution_count": 9,
   "id": "a545dcab",
   "metadata": {
    "execution": {
     "iopub.execute_input": "2022-10-31T19:27:40.145819Z",
     "iopub.status.busy": "2022-10-31T19:27:40.145364Z",
     "iopub.status.idle": "2022-10-31T19:27:41.918520Z",
     "shell.execute_reply": "2022-10-31T19:27:41.917223Z"
    },
    "papermill": {
     "duration": 1.789728,
     "end_time": "2022-10-31T19:27:41.921173",
     "exception": false,
     "start_time": "2022-10-31T19:27:40.131445",
     "status": "completed"
    },
    "tags": []
   },
   "outputs": [],
   "source": [
    "dados = dados[['dia_semana', 'uf', 'br', 'km', 'municipio', 'causa_acidente',  'tipo_acidente', 'classificacao_acidente', 'fase_dia', 'condicao_metereologica', 'tipo_pista', 'tracado_via', 'uso_solo', 'ano', 'pessoas', 'mortos', 'feridos_leves', 'feridos_graves', 'ilesos', 'feridos', 'ignorados','data_hora']]"
   ]
  },
  {
   "cell_type": "markdown",
   "id": "a6d3714d",
   "metadata": {
    "papermill": {
     "duration": 0.012179,
     "end_time": "2022-10-31T19:27:41.946278",
     "exception": false,
     "start_time": "2022-10-31T19:27:41.934099",
     "status": "completed"
    },
    "tags": []
   },
   "source": [
    "Vou aplicar algumas normalizações textuais para agrupar mais itens de mesmo valor futuramente"
   ]
  },
  {
   "cell_type": "code",
   "execution_count": 10,
   "id": "acb42787",
   "metadata": {
    "execution": {
     "iopub.execute_input": "2022-10-31T19:27:41.972883Z",
     "iopub.status.busy": "2022-10-31T19:27:41.972459Z",
     "iopub.status.idle": "2022-10-31T19:28:09.352306Z",
     "shell.execute_reply": "2022-10-31T19:28:09.351208Z"
    },
    "papermill": {
     "duration": 27.396336,
     "end_time": "2022-10-31T19:28:09.354944",
     "exception": false,
     "start_time": "2022-10-31T19:27:41.958608",
     "status": "completed"
    },
    "tags": []
   },
   "outputs": [],
   "source": [
    "# colunas com textos para normalizar\n",
    "columns = ['dia_semana', 'uf', 'municipio', 'causa_acidente', 'tipo_acidente',\n",
    "           'classificacao_acidente', 'fase_dia', 'condicao_metereologica', 'tipo_pista',\n",
    "           'tracado_via', 'uso_solo']\n",
    "\n",
    "for colum in columns:\n",
    "    # trata unicodes divergentes e espaços a mais\n",
    "    dados[colum] = dados[colum].apply(lambda x: trata_unicode(x).strip())\n",
    "    \n",
    "    # normaliza texto para minúsculo\n",
    "    dados[colum] = dados[colum].apply(lambda x: x.lower())"
   ]
  },
  {
   "cell_type": "markdown",
   "id": "27d85fb2",
   "metadata": {
    "papermill": {
     "duration": 0.013258,
     "end_time": "2022-10-31T19:28:09.381783",
     "exception": false,
     "start_time": "2022-10-31T19:28:09.368525",
     "status": "completed"
    },
    "tags": []
   },
   "source": [
    "**Analisando Outliers**"
   ]
  },
  {
   "cell_type": "code",
   "execution_count": 11,
   "id": "a7e7a914",
   "metadata": {
    "execution": {
     "iopub.execute_input": "2022-10-31T19:28:09.409026Z",
     "iopub.status.busy": "2022-10-31T19:28:09.407889Z",
     "iopub.status.idle": "2022-10-31T19:28:09.864453Z",
     "shell.execute_reply": "2022-10-31T19:28:09.863247Z"
    },
    "papermill": {
     "duration": 0.472761,
     "end_time": "2022-10-31T19:28:09.866985",
     "exception": false,
     "start_time": "2022-10-31T19:28:09.394224",
     "status": "completed"
    },
    "tags": []
   },
   "outputs": [
    {
     "data": {
      "text/html": [
       "<div>\n",
       "<style scoped>\n",
       "    .dataframe tbody tr th:only-of-type {\n",
       "        vertical-align: middle;\n",
       "    }\n",
       "\n",
       "    .dataframe tbody tr th {\n",
       "        vertical-align: top;\n",
       "    }\n",
       "\n",
       "    .dataframe thead th {\n",
       "        text-align: right;\n",
       "    }\n",
       "</style>\n",
       "<table border=\"1\" class=\"dataframe\">\n",
       "  <thead>\n",
       "    <tr style=\"text-align: right;\">\n",
       "      <th></th>\n",
       "      <th>ano</th>\n",
       "      <th>pessoas</th>\n",
       "      <th>mortos</th>\n",
       "      <th>feridos_leves</th>\n",
       "      <th>feridos_graves</th>\n",
       "      <th>ilesos</th>\n",
       "      <th>feridos</th>\n",
       "      <th>ignorados</th>\n",
       "    </tr>\n",
       "  </thead>\n",
       "  <tbody>\n",
       "    <tr>\n",
       "      <th>count</th>\n",
       "      <td>1.465837e+06</td>\n",
       "      <td>1.784454e+06</td>\n",
       "      <td>1.784454e+06</td>\n",
       "      <td>1.784454e+06</td>\n",
       "      <td>1.784454e+06</td>\n",
       "      <td>1.784454e+06</td>\n",
       "      <td>1.784454e+06</td>\n",
       "      <td>1.784454e+06</td>\n",
       "    </tr>\n",
       "    <tr>\n",
       "      <th>mean</th>\n",
       "      <td>2.011082e+03</td>\n",
       "      <td>2.177088e+00</td>\n",
       "      <td>5.250121e-02</td>\n",
       "      <td>4.919135e-01</td>\n",
       "      <td>1.737131e-01</td>\n",
       "      <td>1.367224e+00</td>\n",
       "      <td>7.181278e-01</td>\n",
       "      <td>9.173618e-02</td>\n",
       "    </tr>\n",
       "    <tr>\n",
       "      <th>std</th>\n",
       "      <td>2.412219e+00</td>\n",
       "      <td>1.596769e+00</td>\n",
       "      <td>2.866305e-01</td>\n",
       "      <td>9.960312e-01</td>\n",
       "      <td>5.663299e-01</td>\n",
       "      <td>1.254949e+00</td>\n",
       "      <td>1.266368e+00</td>\n",
       "      <td>3.876237e-01</td>\n",
       "    </tr>\n",
       "    <tr>\n",
       "      <th>min</th>\n",
       "      <td>2.007000e+03</td>\n",
       "      <td>0.000000e+00</td>\n",
       "      <td>0.000000e+00</td>\n",
       "      <td>0.000000e+00</td>\n",
       "      <td>0.000000e+00</td>\n",
       "      <td>0.000000e+00</td>\n",
       "      <td>0.000000e+00</td>\n",
       "      <td>0.000000e+00</td>\n",
       "    </tr>\n",
       "    <tr>\n",
       "      <th>25%</th>\n",
       "      <td>2.009000e+03</td>\n",
       "      <td>1.000000e+00</td>\n",
       "      <td>0.000000e+00</td>\n",
       "      <td>0.000000e+00</td>\n",
       "      <td>0.000000e+00</td>\n",
       "      <td>1.000000e+00</td>\n",
       "      <td>0.000000e+00</td>\n",
       "      <td>0.000000e+00</td>\n",
       "    </tr>\n",
       "    <tr>\n",
       "      <th>50%</th>\n",
       "      <td>2.011000e+03</td>\n",
       "      <td>2.000000e+00</td>\n",
       "      <td>0.000000e+00</td>\n",
       "      <td>0.000000e+00</td>\n",
       "      <td>0.000000e+00</td>\n",
       "      <td>1.000000e+00</td>\n",
       "      <td>0.000000e+00</td>\n",
       "      <td>0.000000e+00</td>\n",
       "    </tr>\n",
       "    <tr>\n",
       "      <th>75%</th>\n",
       "      <td>2.013000e+03</td>\n",
       "      <td>2.000000e+00</td>\n",
       "      <td>0.000000e+00</td>\n",
       "      <td>1.000000e+00</td>\n",
       "      <td>0.000000e+00</td>\n",
       "      <td>2.000000e+00</td>\n",
       "      <td>1.000000e+00</td>\n",
       "      <td>0.000000e+00</td>\n",
       "    </tr>\n",
       "    <tr>\n",
       "      <th>max</th>\n",
       "      <td>2.015000e+03</td>\n",
       "      <td>2.480000e+02</td>\n",
       "      <td>3.300000e+01</td>\n",
       "      <td>5.800000e+01</td>\n",
       "      <td>2.220000e+02</td>\n",
       "      <td>9.900000e+01</td>\n",
       "      <td>2.450000e+02</td>\n",
       "      <td>8.600000e+01</td>\n",
       "    </tr>\n",
       "  </tbody>\n",
       "</table>\n",
       "</div>"
      ],
      "text/plain": [
       "                ano       pessoas        mortos  feridos_leves  \\\n",
       "count  1.465837e+06  1.784454e+06  1.784454e+06   1.784454e+06   \n",
       "mean   2.011082e+03  2.177088e+00  5.250121e-02   4.919135e-01   \n",
       "std    2.412219e+00  1.596769e+00  2.866305e-01   9.960312e-01   \n",
       "min    2.007000e+03  0.000000e+00  0.000000e+00   0.000000e+00   \n",
       "25%    2.009000e+03  1.000000e+00  0.000000e+00   0.000000e+00   \n",
       "50%    2.011000e+03  2.000000e+00  0.000000e+00   0.000000e+00   \n",
       "75%    2.013000e+03  2.000000e+00  0.000000e+00   1.000000e+00   \n",
       "max    2.015000e+03  2.480000e+02  3.300000e+01   5.800000e+01   \n",
       "\n",
       "       feridos_graves        ilesos       feridos     ignorados  \n",
       "count    1.784454e+06  1.784454e+06  1.784454e+06  1.784454e+06  \n",
       "mean     1.737131e-01  1.367224e+00  7.181278e-01  9.173618e-02  \n",
       "std      5.663299e-01  1.254949e+00  1.266368e+00  3.876237e-01  \n",
       "min      0.000000e+00  0.000000e+00  0.000000e+00  0.000000e+00  \n",
       "25%      0.000000e+00  1.000000e+00  0.000000e+00  0.000000e+00  \n",
       "50%      0.000000e+00  1.000000e+00  0.000000e+00  0.000000e+00  \n",
       "75%      0.000000e+00  2.000000e+00  1.000000e+00  0.000000e+00  \n",
       "max      2.220000e+02  9.900000e+01  2.450000e+02  8.600000e+01  "
      ]
     },
     "execution_count": 11,
     "metadata": {},
     "output_type": "execute_result"
    }
   ],
   "source": [
    "dados.describe()"
   ]
  },
  {
   "cell_type": "code",
   "execution_count": 12,
   "id": "1fae463c",
   "metadata": {
    "execution": {
     "iopub.execute_input": "2022-10-31T19:28:09.896239Z",
     "iopub.status.busy": "2022-10-31T19:28:09.894883Z",
     "iopub.status.idle": "2022-10-31T19:28:10.960166Z",
     "shell.execute_reply": "2022-10-31T19:28:10.958989Z"
    },
    "papermill": {
     "duration": 1.083103,
     "end_time": "2022-10-31T19:28:10.963538",
     "exception": false,
     "start_time": "2022-10-31T19:28:09.880435",
     "status": "completed"
    },
    "tags": []
   },
   "outputs": [],
   "source": [
    "import seaborn as sns\n",
    "import numpy as np"
   ]
  },
  {
   "cell_type": "code",
   "execution_count": 13,
   "id": "44e40443",
   "metadata": {
    "execution": {
     "iopub.execute_input": "2022-10-31T19:28:10.991284Z",
     "iopub.status.busy": "2022-10-31T19:28:10.990871Z",
     "iopub.status.idle": "2022-10-31T19:28:15.580372Z",
     "shell.execute_reply": "2022-10-31T19:28:15.579076Z"
    },
    "papermill": {
     "duration": 4.606368,
     "end_time": "2022-10-31T19:28:15.582909",
     "exception": false,
     "start_time": "2022-10-31T19:28:10.976541",
     "status": "completed"
    },
    "tags": []
   },
   "outputs": [
    {
     "data": {
      "image/png": "[encoded data removed]",
      "text/plain": [
       "<Figure size 1152x1152 with 9 Axes>"
      ]
     },
     "metadata": {
      "needs_background": "light"
     },
     "output_type": "display_data"
    }
   ],
   "source": [
    "import matplotlib.pyplot as plt\n",
    "\n",
    "fig, axes = plt.subplots(nrows=3, ncols=3,figsize=(16, 16))\n",
    "\n",
    "# seleciona apenas colunas que contém número\n",
    "for i, column in enumerate(dados.select_dtypes(include=np.number).columns.tolist()):\n",
    "\n",
    "    ax = axes[i//3,i%3]\n",
    "    axes[i//3,i%3].set_title(column)\n",
    "    sns.boxplot(x=dados[column],ax=ax)"
   ]
  },
  {
   "cell_type": "markdown",
   "id": "362c33b1",
   "metadata": {
    "papermill": {
     "duration": 0.01376,
     "end_time": "2022-10-31T19:28:15.611060",
     "exception": false,
     "start_time": "2022-10-31T19:28:15.597300",
     "status": "completed"
    },
    "tags": []
   },
   "source": [
    "Temos muitos outliers em nossos dados, vamos precisar levar isso em consideração para realizar algumas das análises e ter um valor mais próximo ao real e menos distorcido pela média."
   ]
  },
  {
   "cell_type": "code",
   "execution_count": 14,
   "id": "015a2086",
   "metadata": {
    "execution": {
     "iopub.execute_input": "2022-10-31T19:28:15.641464Z",
     "iopub.status.busy": "2022-10-31T19:28:15.641037Z",
     "iopub.status.idle": "2022-10-31T19:28:17.146154Z",
     "shell.execute_reply": "2022-10-31T19:28:17.144817Z"
    },
    "papermill": {
     "duration": 1.524746,
     "end_time": "2022-10-31T19:28:17.149290",
     "exception": false,
     "start_time": "2022-10-31T19:28:15.624544",
     "status": "completed"
    },
    "tags": []
   },
   "outputs": [],
   "source": [
    "#remove outliers com até 8 desvios padrões\n",
    "colunas_outliers = ['pessoas', 'feridos_graves', 'feridos', 'ignorados','ilesos', 'mortos']\n",
    "\n",
    "#dados sem outliers\n",
    "index_remover = remover_outliers(dados, colunas_outliers, 8)\n",
    "dados_so = dados.drop(index_remover).copy()"
   ]
  },
  {
   "cell_type": "code",
   "execution_count": 15,
   "id": "0cb81a81",
   "metadata": {
    "execution": {
     "iopub.execute_input": "2022-10-31T19:28:17.178425Z",
     "iopub.status.busy": "2022-10-31T19:28:17.178026Z",
     "iopub.status.idle": "2022-10-31T19:28:17.994135Z",
     "shell.execute_reply": "2022-10-31T19:28:17.992488Z"
    },
    "papermill": {
     "duration": 0.834562,
     "end_time": "2022-10-31T19:28:17.997636",
     "exception": false,
     "start_time": "2022-10-31T19:28:17.163074",
     "status": "completed"
    },
    "tags": []
   },
   "outputs": [],
   "source": [
    "# remove pessoas onde o número de pessoas é igual a 0\n",
    "dados_so.drop(dados_so[dados_so['pessoas'] == 0].index, inplace=True)"
   ]
  },
  {
   "cell_type": "markdown",
   "id": "209be671",
   "metadata": {
    "papermill": {
     "duration": 0.018157,
     "end_time": "2022-10-31T19:28:18.035596",
     "exception": false,
     "start_time": "2022-10-31T19:28:18.017439",
     "status": "completed"
    },
    "tags": []
   },
   "source": [
    "Após a remoção de até 8 desvios padrões"
   ]
  },
  {
   "cell_type": "code",
   "execution_count": 16,
   "id": "0fb14302",
   "metadata": {
    "execution": {
     "iopub.execute_input": "2022-10-31T19:28:18.076633Z",
     "iopub.status.busy": "2022-10-31T19:28:18.076181Z",
     "iopub.status.idle": "2022-10-31T19:28:22.407016Z",
     "shell.execute_reply": "2022-10-31T19:28:22.405965Z"
    },
    "papermill": {
     "duration": 4.352781,
     "end_time": "2022-10-31T19:28:22.409468",
     "exception": false,
     "start_time": "2022-10-31T19:28:18.056687",
     "status": "completed"
    },
    "tags": []
   },
   "outputs": [
    {
     "data": {
      "image/png": "[encoded data removed]",
      "text/plain": [
       "<Figure size 1152x1152 with 9 Axes>"
      ]
     },
     "metadata": {
      "needs_background": "light"
     },
     "output_type": "display_data"
    }
   ],
   "source": [
    "fig, axes = plt.subplots(nrows=3, ncols=3,figsize=(16, 16))\n",
    "\n",
    "# seleciona apenas colunas que contém número\n",
    "for i, column in enumerate(dados_so.select_dtypes(include=np.number).columns.tolist()):\n",
    "\n",
    "    ax = axes[i//3,i%3]\n",
    "    axes[i//3,i%3].set_title(column)\n",
    "    sns.boxplot(x=dados_so[column],ax=ax)"
   ]
  },
  {
   "cell_type": "code",
   "execution_count": 17,
   "id": "bc5d779a",
   "metadata": {
    "execution": {
     "iopub.execute_input": "2022-10-31T19:28:22.440631Z",
     "iopub.status.busy": "2022-10-31T19:28:22.439381Z",
     "iopub.status.idle": "2022-10-31T19:28:22.447196Z",
     "shell.execute_reply": "2022-10-31T19:28:22.445617Z"
    },
    "papermill": {
     "duration": 0.026389,
     "end_time": "2022-10-31T19:28:22.450381",
     "exception": false,
     "start_time": "2022-10-31T19:28:22.423992",
     "status": "completed"
    },
    "tags": []
   },
   "outputs": [
    {
     "name": "stdout",
     "output_type": "stream",
     "text": [
      "Foram removidos 1.19% da base de dados\n"
     ]
    }
   ],
   "source": [
    "rm = 100 - (dados_so.shape[0] * 100)/dados.shape[0]\n",
    "print(f'Foram removidos {round(rm,2)}% da base de dados')"
   ]
  },
  {
   "cell_type": "markdown",
   "id": "a872d509",
   "metadata": {
    "papermill": {
     "duration": 0.013852,
     "end_time": "2022-10-31T19:28:22.478975",
     "exception": false,
     "start_time": "2022-10-31T19:28:22.465123",
     "status": "completed"
    },
    "tags": []
   },
   "source": [
    "**Acidentes mais graves costumam ser os que envolvem maior número de mortos e feridos e menor número de ilesos com isso vou adicionar pesos nos feridos, mortos, e ilesos para calcular a gravidade de um acidente**\n",
    "\n",
    "- `ilesos` ou `ignorados` = sem peso\n",
    "- `feridos_leves` = peso 2\n",
    "- `feridos_graves` = peso 4\n",
    "- `mortos` = peso 8\n",
    "\n",
    "<br>\n",
    "a gravidade vai ser calculada com base no percentual de pessoas feridas vezes o peso dos incidentes que levaram aos ferimentos ou morte, vou classificar a gravidade em: - muito grave\n",
    "- grave \n",
    "- médio\n",
    "- leve"
   ]
  },
  {
   "cell_type": "code",
   "execution_count": 18,
   "id": "fe7f2ba7",
   "metadata": {
    "execution": {
     "iopub.execute_input": "2022-10-31T19:28:22.508733Z",
     "iopub.status.busy": "2022-10-31T19:28:22.508297Z",
     "iopub.status.idle": "2022-10-31T19:28:23.031576Z",
     "shell.execute_reply": "2022-10-31T19:28:23.030344Z"
    },
    "papermill": {
     "duration": 0.541662,
     "end_time": "2022-10-31T19:28:23.034568",
     "exception": false,
     "start_time": "2022-10-31T19:28:22.492906",
     "status": "completed"
    },
    "tags": []
   },
   "outputs": [],
   "source": [
    "dados_so['percentual_feridos'] = (dados_so['feridos'] * 100)/dados_so['pessoas']\n",
    "\n",
    "dados_so['pesos'] = (dados_so['feridos_leves']*2) + (dados_so['feridos_graves']*4) + (dados_so['mortos']*8)\n",
    "\n",
    "# peso da gravidade\n",
    "dados_so['peso_gravidade'] = dados_so['percentual_feridos'] * dados_so['pesos']\n",
    "\n",
    "# cria 4 categorias para o peso da gravidade\n",
    "dados_so['gravidade'] = pd.cut(dados_so['peso_gravidade'],4, labels=['leve', 'médio', 'grave', 'muito_grave']).astype(str)"
   ]
  },
  {
   "cell_type": "markdown",
   "id": "54fcbafc",
   "metadata": {
    "papermill": {
     "duration": 0.013759,
     "end_time": "2022-10-31T19:28:23.062966",
     "exception": false,
     "start_time": "2022-10-31T19:28:23.049207",
     "status": "completed"
    },
    "tags": []
   },
   "source": [
    "## Análise Exploratória"
   ]
  },
  {
   "cell_type": "markdown",
   "id": "85fab5ee",
   "metadata": {
    "papermill": {
     "duration": 0.013591,
     "end_time": "2022-10-31T19:28:23.090641",
     "exception": false,
     "start_time": "2022-10-31T19:28:23.077050",
     "status": "completed"
    },
    "tags": []
   },
   "source": [
    "Temos dois tipos de cenários principais nos casos de acidentes, um em que há feridos e outro onde não houveram feridos,podemos classificar alguns tipos de gravidade para estes acidentes levando em consideração o número de mortos, e feridos, assim como a quantidade de pessoas envolvidas no acidente, baseado nessas principais características vamos responder algumas perguntas sobre estes cenários.\n",
    "<br>\n",
    "<br>\n",
    "\n",
    "- **Qual o percentual de gravidade dos acidentes?**\n",
    "- **Em quais regiões mais ocorreram acidentes graves?**\n",
    "- **Dos acidentes graves, quais foram as principais causas?**\n",
    "- **Os acidentes com vítimas fatais aumentaram ou diminuiram ao passar dos anos?**\n",
    "- **Quais causas mais aumentaram ao passar dos anos que levaram a vítimas fatais?**\n",
    "- **Dos acidentes sem feridos quantos foram graves?**\n",
    "- **Dos acidentes sem feridos quais foram as principais causas?**\n",
    "- **Entere ambos cenários, com feridos e sem feridos quais eram as condições climáticas mais frequentes?**\n",
    "\n",
    "<br>"
   ]
  },
  {
   "cell_type": "markdown",
   "id": "fba0e8e3",
   "metadata": {
    "papermill": {
     "duration": 0.013883,
     "end_time": "2022-10-31T19:28:23.119067",
     "exception": false,
     "start_time": "2022-10-31T19:28:23.105184",
     "status": "completed"
    },
    "tags": []
   },
   "source": [
    "### Qual o percentual de gravidade dos acidentes?"
   ]
  },
  {
   "cell_type": "code",
   "execution_count": 19,
   "id": "4bc51427",
   "metadata": {
    "execution": {
     "iopub.execute_input": "2022-10-31T19:28:23.149025Z",
     "iopub.status.busy": "2022-10-31T19:28:23.148558Z",
     "iopub.status.idle": "2022-10-31T19:28:26.086637Z",
     "shell.execute_reply": "2022-10-31T19:28:26.084847Z"
    },
    "papermill": {
     "duration": 2.956315,
     "end_time": "2022-10-31T19:28:26.089372",
     "exception": false,
     "start_time": "2022-10-31T19:28:23.133057",
     "status": "completed"
    },
    "tags": []
   },
   "outputs": [
    {
     "name": "stdout",
     "output_type": "stream",
     "text": [
      "{'leve': [700.0, 'green'], 'médio': [1400.0, 'olive'], 'grave': [2100.0, 'orange'], 'muito_grave': [2800.0, 'red']}\n"
     ]
    }
   ],
   "source": [
    "#separa os pesos máximos de cada tipo de gravidade e as cores que serão adicionadas ao gráfico\n",
    "gravidades = {}\n",
    "cores = ['green', 'olive','orange','red']\n",
    "i=0\n",
    "for gravidade in dados_so['gravidade'].unique():\n",
    "    peso_max = dados_so[dados_so['gravidade'] == gravidade]['peso_gravidade'].max()\n",
    "    gravidades[gravidade] = [peso_max, cores[i]]\n",
    "    i+=1\n",
    "print(gravidades)"
   ]
  },
  {
   "cell_type": "code",
   "execution_count": 20,
   "id": "160bae62",
   "metadata": {
    "execution": {
     "iopub.execute_input": "2022-10-31T19:28:26.120357Z",
     "iopub.status.busy": "2022-10-31T19:28:26.119677Z",
     "iopub.status.idle": "2022-10-31T19:28:45.684062Z",
     "shell.execute_reply": "2022-10-31T19:28:45.682723Z"
    },
    "papermill": {
     "duration": 19.582568,
     "end_time": "2022-10-31T19:28:45.686687",
     "exception": false,
     "start_time": "2022-10-31T19:28:26.104119",
     "status": "completed"
    },
    "tags": []
   },
   "outputs": [
    {
     "data": {
      "image/png": "[encoded data removed]",
      "text/plain": [
       "<Figure size 864x432 with 1 Axes>"
      ]
     },
     "metadata": {
      "needs_background": "light"
     },
     "output_type": "display_data"
    }
   ],
   "source": [
    "ax = sns.histplot(x = dados_so['peso_gravidade'], \n",
    "                  data = dados_so, \n",
    "                  kde = True, \n",
    "                  cumulative = True,\n",
    "                  stat = 'density')\n",
    "ax.figure.set_size_inches(12, 6)\n",
    "ax.set_title(\"Histograma Acumulado - peso da gravidade\")\n",
    "ax.set_xlabel(\"peso da gravidade\")\n",
    "\n",
    "for g in gravidades:\n",
    "    ax.axvline(gravidades[g][0], color=gravidades[g][1], linestyle=\"-\", label=g)\n",
    "ax.legend()\n",
    "ax;"
   ]
  },
  {
   "cell_type": "markdown",
   "id": "f59caadd",
   "metadata": {
    "papermill": {
     "duration": 0.014371,
     "end_time": "2022-10-31T19:28:45.715964",
     "exception": false,
     "start_time": "2022-10-31T19:28:45.701593",
     "status": "completed"
    },
    "tags": []
   },
   "source": [
    "**Podemos ver que a maior parte do acidentes quase 96% são acidentes que podem ser considerados leves, 4% médios e menos que 0% graves e muito graves**"
   ]
  },
  {
   "cell_type": "code",
   "execution_count": 21,
   "id": "5f026610",
   "metadata": {
    "execution": {
     "iopub.execute_input": "2022-10-31T19:28:45.747970Z",
     "iopub.status.busy": "2022-10-31T19:28:45.747529Z",
     "iopub.status.idle": "2022-10-31T19:28:45.919021Z",
     "shell.execute_reply": "2022-10-31T19:28:45.917722Z"
    },
    "papermill": {
     "duration": 0.190379,
     "end_time": "2022-10-31T19:28:45.921790",
     "exception": false,
     "start_time": "2022-10-31T19:28:45.731411",
     "status": "completed"
    },
    "tags": []
   },
   "outputs": [
    {
     "data": {
      "text/plain": [
       "leve           96.0\n",
       "médio           4.0\n",
       "grave           0.0\n",
       "muito_grave     0.0\n",
       "Name: gravidade, dtype: float64"
      ]
     },
     "execution_count": 21,
     "metadata": {},
     "output_type": "execute_result"
    }
   ],
   "source": [
    "round(dados_so['gravidade'].value_counts(normalize=True),2)*100"
   ]
  },
  {
   "cell_type": "markdown",
   "id": "eec8d5af",
   "metadata": {
    "papermill": {
     "duration": 0.01464,
     "end_time": "2022-10-31T19:28:45.952305",
     "exception": false,
     "start_time": "2022-10-31T19:28:45.937665",
     "status": "completed"
    },
    "tags": []
   },
   "source": [
    "### Em quais regiões mais ocorreram acidentes graves?"
   ]
  },
  {
   "cell_type": "markdown",
   "id": "688c1932",
   "metadata": {
    "papermill": {
     "duration": 0.015605,
     "end_time": "2022-10-31T19:28:45.982790",
     "exception": false,
     "start_time": "2022-10-31T19:28:45.967185",
     "status": "completed"
    },
    "tags": []
   },
   "source": [
    "Nesse momento não irei levar em consideração a densidade demográfica de cada região, mas apenas o número de acidentes"
   ]
  },
  {
   "cell_type": "code",
   "execution_count": 22,
   "id": "d7838bc7",
   "metadata": {
    "execution": {
     "iopub.execute_input": "2022-10-31T19:28:46.015361Z",
     "iopub.status.busy": "2022-10-31T19:28:46.014960Z",
     "iopub.status.idle": "2022-10-31T19:28:46.021688Z",
     "shell.execute_reply": "2022-10-31T19:28:46.020313Z"
    },
    "papermill": {
     "duration": 0.026225,
     "end_time": "2022-10-31T19:28:46.024402",
     "exception": false,
     "start_time": "2022-10-31T19:28:45.998177",
     "status": "completed"
    },
    "tags": []
   },
   "outputs": [],
   "source": [
    "regioes = {'norte': ['ap', 'ac', 'pa', 'ro', 'to', 'rr', 'am'],\n",
    "           'nordeste':['ba','pe','ce', 'se', 'ma', 'rn', 'pb', 'pi','al'],\n",
    "           'sul':['sc','pr','rs'],\n",
    "           'sudeste':['sp','rj','es','mg'],\n",
    "           'centro-oeste':['ms', 'mt', 'go', 'df']}"
   ]
  },
  {
   "cell_type": "code",
   "execution_count": 23,
   "id": "7a6ab211",
   "metadata": {
    "execution": {
     "iopub.execute_input": "2022-10-31T19:28:46.057353Z",
     "iopub.status.busy": "2022-10-31T19:28:46.056920Z",
     "iopub.status.idle": "2022-10-31T19:28:46.790192Z",
     "shell.execute_reply": "2022-10-31T19:28:46.788912Z"
    },
    "papermill": {
     "duration": 0.752915,
     "end_time": "2022-10-31T19:28:46.792986",
     "exception": false,
     "start_time": "2022-10-31T19:28:46.040071",
     "status": "completed"
    },
    "tags": []
   },
   "outputs": [],
   "source": [
    "dados_so['regiao'] = ''\n",
    "for regiao in regioes:\n",
    "    dados_so.loc[dados_so['uf'].isin(regioes[regiao]),'regiao'] = regiao"
   ]
  },
  {
   "cell_type": "code",
   "execution_count": 24,
   "id": "085cdc8a",
   "metadata": {
    "execution": {
     "iopub.execute_input": "2022-10-31T19:28:46.825532Z",
     "iopub.status.busy": "2022-10-31T19:28:46.825086Z",
     "iopub.status.idle": "2022-10-31T19:28:48.505385Z",
     "shell.execute_reply": "2022-10-31T19:28:48.504054Z"
    },
    "papermill": {
     "duration": 1.699989,
     "end_time": "2022-10-31T19:28:48.508059",
     "exception": false,
     "start_time": "2022-10-31T19:28:46.808070",
     "status": "completed"
    },
    "tags": []
   },
   "outputs": [],
   "source": [
    "acidentes_graves = dados_so[(dados_so['gravidade'] == 'grave') |\n",
    "                            (dados_so['gravidade'] == 'muito grave')].copy()"
   ]
  },
  {
   "cell_type": "code",
   "execution_count": 25,
   "id": "287f2f2a",
   "metadata": {
    "execution": {
     "iopub.execute_input": "2022-10-31T19:28:48.540935Z",
     "iopub.status.busy": "2022-10-31T19:28:48.540491Z",
     "iopub.status.idle": "2022-10-31T19:28:48.835167Z",
     "shell.execute_reply": "2022-10-31T19:28:48.833617Z"
    },
    "papermill": {
     "duration": 0.314927,
     "end_time": "2022-10-31T19:28:48.838041",
     "exception": false,
     "start_time": "2022-10-31T19:28:48.523114",
     "status": "completed"
    },
    "tags": []
   },
   "outputs": [
    {
     "data": {
      "image/png": "[encoded data removed]",
      "text/plain": [
       "<Figure size 864x432 with 1 Axes>"
      ]
     },
     "metadata": {
      "needs_background": "light"
     },
     "output_type": "display_data"
    }
   ],
   "source": [
    "#cor do gráfico\n",
    "plt.figure(figsize=(12, 6))\n",
    "\n",
    "palette = sns.diverging_palette(220, 20, as_cmap=False)\n",
    "palette.reverse()\n",
    "\n",
    "ax = sns.countplot(x='regiao',\n",
    "                   data=acidentes_graves,\n",
    "                   order = acidentes_graves['regiao'].value_counts().index,\n",
    "                   palette=palette)\n",
    "\n",
    "plt.title('Percentual de Acidentes Graves x Região')\n",
    "plt.xlabel('Regiões')\n",
    "plt.ylabel('Quantidade')\n",
    "\n",
    "# monta percentual acima das barras\n",
    "total = len(acidentes_graves['regiao'])\n",
    "for p in ax.patches:\n",
    "    percentage = '{:.1f}%'.format(100 * p.get_height()/total)\n",
    "    x = p.get_x() + p.get_width()/2\n",
    "    y = p.get_height()\n",
    "    ax.annotate(percentage, (x, y),ha='center')"
   ]
  },
  {
   "cell_type": "markdown",
   "id": "4d43ad2c",
   "metadata": {
    "papermill": {
     "duration": 0.014955,
     "end_time": "2022-10-31T19:28:48.868383",
     "exception": false,
     "start_time": "2022-10-31T19:28:48.853428",
     "status": "completed"
    },
    "tags": []
   },
   "source": [
    "### Dos acidentes graves, quais foram as principais causas?"
   ]
  },
  {
   "cell_type": "code",
   "execution_count": null,
   "id": "21e9c9ce",
   "metadata": {
    "papermill": {
     "duration": 0.014934,
     "end_time": "2022-10-31T19:28:48.898530",
     "exception": false,
     "start_time": "2022-10-31T19:28:48.883596",
     "status": "completed"
    },
    "tags": []
   },
   "outputs": [],
   "source": []
  },
  {
   "cell_type": "markdown",
   "id": "613105fc",
   "metadata": {
    "papermill": {
     "duration": 0.015984,
     "end_time": "2022-10-31T19:28:48.929906",
     "exception": false,
     "start_time": "2022-10-31T19:28:48.913922",
     "status": "completed"
    },
    "tags": []
   },
   "source": [
    "### Os acidentes com vítimas fatais aumentaram ou diminuiram ao passar dos anos?"
   ]
  },
  {
   "cell_type": "code",
   "execution_count": null,
   "id": "6c106640",
   "metadata": {
    "papermill": {
     "duration": 0.014763,
     "end_time": "2022-10-31T19:28:48.959893",
     "exception": false,
     "start_time": "2022-10-31T19:28:48.945130",
     "status": "completed"
    },
    "tags": []
   },
   "outputs": [],
   "source": []
  },
  {
   "cell_type": "markdown",
   "id": "7905e25e",
   "metadata": {
    "papermill": {
     "duration": 0.014683,
     "end_time": "2022-10-31T19:28:48.989688",
     "exception": false,
     "start_time": "2022-10-31T19:28:48.975005",
     "status": "completed"
    },
    "tags": []
   },
   "source": [
    "### Quais causas mais aumentaram ao passar dos anos que levaram a vítimas fatais?"
   ]
  },
  {
   "cell_type": "code",
   "execution_count": null,
   "id": "f3dbf3ce",
   "metadata": {
    "papermill": {
     "duration": 0.021577,
     "end_time": "2022-10-31T19:28:49.026224",
     "exception": false,
     "start_time": "2022-10-31T19:28:49.004647",
     "status": "completed"
    },
    "tags": []
   },
   "outputs": [],
   "source": []
  },
  {
   "cell_type": "markdown",
   "id": "cfda29c3",
   "metadata": {
    "papermill": {
     "duration": 0.022984,
     "end_time": "2022-10-31T19:28:49.066224",
     "exception": false,
     "start_time": "2022-10-31T19:28:49.043240",
     "status": "completed"
    },
    "tags": []
   },
   "source": [
    "### Dos acidentes sem feridos quantos foram graves?"
   ]
  },
  {
   "cell_type": "code",
   "execution_count": null,
   "id": "e77313ee",
   "metadata": {
    "papermill": {
     "duration": 0.016169,
     "end_time": "2022-10-31T19:28:49.099582",
     "exception": false,
     "start_time": "2022-10-31T19:28:49.083413",
     "status": "completed"
    },
    "tags": []
   },
   "outputs": [],
   "source": []
  },
  {
   "cell_type": "markdown",
   "id": "38076703",
   "metadata": {
    "papermill": {
     "duration": 0.015882,
     "end_time": "2022-10-31T19:28:49.131964",
     "exception": false,
     "start_time": "2022-10-31T19:28:49.116082",
     "status": "completed"
    },
    "tags": []
   },
   "source": [
    "### Dos acidentes sem feridos quais foram as principais causas?"
   ]
  },
  {
   "cell_type": "code",
   "execution_count": null,
   "id": "c539e147",
   "metadata": {
    "papermill": {
     "duration": 0.025094,
     "end_time": "2022-10-31T19:28:49.174407",
     "exception": false,
     "start_time": "2022-10-31T19:28:49.149313",
     "status": "completed"
    },
    "tags": []
   },
   "outputs": [],
   "source": []
  },
  {
   "cell_type": "markdown",
   "id": "939c458e",
   "metadata": {
    "papermill": {
     "duration": 0.015975,
     "end_time": "2022-10-31T19:28:49.211359",
     "exception": false,
     "start_time": "2022-10-31T19:28:49.195384",
     "status": "completed"
    },
    "tags": []
   },
   "source": [
    "### Entere diferentes cenários, com feridos e sem feridos quais eram as condições climáticas mais frequentes?"
   ]
  },
  {
   "cell_type": "code",
   "execution_count": null,
   "id": "83747888",
   "metadata": {
    "papermill": {
     "duration": 0.016304,
     "end_time": "2022-10-31T19:28:49.243779",
     "exception": false,
     "start_time": "2022-10-31T19:28:49.227475",
     "status": "completed"
    },
    "tags": []
   },
   "outputs": [],
   "source": []
  },
  {
   "cell_type": "code",
   "execution_count": null,
   "id": "c72b92e0",
   "metadata": {
    "papermill": {
     "duration": 0.015623,
     "end_time": "2022-10-31T19:28:49.275788",
     "exception": false,
     "start_time": "2022-10-31T19:28:49.260165",
     "status": "completed"
    },
    "tags": []
   },
   "outputs": [],
   "source": []
  },
  {
   "cell_type": "code",
   "execution_count": null,
   "id": "c7152c39",
   "metadata": {
    "papermill": {
     "duration": 0.022075,
     "end_time": "2022-10-31T19:28:49.315726",
     "exception": false,
     "start_time": "2022-10-31T19:28:49.293651",
     "status": "completed"
    },
    "tags": []
   },
   "outputs": [],
   "source": []
  }
 ],
 "metadata": {
  "kernelspec": {
   "display_name": "Python 3",
   "language": "python",
   "name": "python3"
  },
  "language_info": {
   "codemirror_mode": {
    "name": "ipython",
    "version": 3
   },
   "file_extension": ".py",
   "mimetype": "text/x-python",
   "name": "python",
   "nbconvert_exporter": "python",
   "pygments_lexer": "ipython3",
   "version": "3.7.12"
  },
  "papermill": {
   "default_parameters": {},
   "duration": 161.806077,
   "end_time": "2022-10-31T19:28:51.167016",
   "environment_variables": {},
   "exception": null,
   "input_path": "__notebook__.ipynb",
   "output_path": "__notebook__.ipynb",
   "parameters": {},
   "start_time": "2022-10-31T19:26:09.360939",
   "version": "2.3.4"
  }
 },
 "nbformat": 4,
 "nbformat_minor": 5
}
